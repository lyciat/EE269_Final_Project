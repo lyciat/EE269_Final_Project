{
 "cells": [
  {
   "cell_type": "markdown",
   "metadata": {},
   "source": [
    "## EE 269 Final Project\n",
    "Lycia Tran\n",
    "Fall 2023\n",
    "\n",
    "Dataset: https://www.kaggle.com/code/tonyfischer/epileptic-seizure-recognition/notebook"
   ]
  },
  {
   "cell_type": "code",
   "execution_count": 1,
   "metadata": {},
   "outputs": [],
   "source": [
    "import numpy as np\n",
    "import pandas as pd\n",
    "import matplotlib.pyplot as plt\n",
    "\n",
    "import seaborn as sns\n",
    "sns.set_style(\"whitegrid\")"
   ]
  },
  {
   "cell_type": "code",
   "execution_count": 2,
   "metadata": {},
   "outputs": [
    {
     "data": {
      "text/html": [
       "<div>\n",
       "<style scoped>\n",
       "    .dataframe tbody tr th:only-of-type {\n",
       "        vertical-align: middle;\n",
       "    }\n",
       "\n",
       "    .dataframe tbody tr th {\n",
       "        vertical-align: top;\n",
       "    }\n",
       "\n",
       "    .dataframe thead th {\n",
       "        text-align: right;\n",
       "    }\n",
       "</style>\n",
       "<table border=\"1\" class=\"dataframe\">\n",
       "  <thead>\n",
       "    <tr style=\"text-align: right;\">\n",
       "      <th></th>\n",
       "      <th>Unnamed</th>\n",
       "      <th>X1</th>\n",
       "      <th>X2</th>\n",
       "      <th>X3</th>\n",
       "      <th>X4</th>\n",
       "      <th>X5</th>\n",
       "      <th>X6</th>\n",
       "      <th>X7</th>\n",
       "      <th>X8</th>\n",
       "      <th>X9</th>\n",
       "      <th>...</th>\n",
       "      <th>X170</th>\n",
       "      <th>X171</th>\n",
       "      <th>X172</th>\n",
       "      <th>X173</th>\n",
       "      <th>X174</th>\n",
       "      <th>X175</th>\n",
       "      <th>X176</th>\n",
       "      <th>X177</th>\n",
       "      <th>X178</th>\n",
       "      <th>y</th>\n",
       "    </tr>\n",
       "  </thead>\n",
       "  <tbody>\n",
       "    <tr>\n",
       "      <th>0</th>\n",
       "      <td>X21.V1.791</td>\n",
       "      <td>135</td>\n",
       "      <td>190</td>\n",
       "      <td>229</td>\n",
       "      <td>223</td>\n",
       "      <td>192</td>\n",
       "      <td>125</td>\n",
       "      <td>55</td>\n",
       "      <td>-9</td>\n",
       "      <td>-33</td>\n",
       "      <td>...</td>\n",
       "      <td>-17</td>\n",
       "      <td>-15</td>\n",
       "      <td>-31</td>\n",
       "      <td>-77</td>\n",
       "      <td>-103</td>\n",
       "      <td>-127</td>\n",
       "      <td>-116</td>\n",
       "      <td>-83</td>\n",
       "      <td>-51</td>\n",
       "      <td>4</td>\n",
       "    </tr>\n",
       "    <tr>\n",
       "      <th>1</th>\n",
       "      <td>X15.V1.924</td>\n",
       "      <td>386</td>\n",
       "      <td>382</td>\n",
       "      <td>356</td>\n",
       "      <td>331</td>\n",
       "      <td>320</td>\n",
       "      <td>315</td>\n",
       "      <td>307</td>\n",
       "      <td>272</td>\n",
       "      <td>244</td>\n",
       "      <td>...</td>\n",
       "      <td>164</td>\n",
       "      <td>150</td>\n",
       "      <td>146</td>\n",
       "      <td>152</td>\n",
       "      <td>157</td>\n",
       "      <td>156</td>\n",
       "      <td>154</td>\n",
       "      <td>143</td>\n",
       "      <td>129</td>\n",
       "      <td>1</td>\n",
       "    </tr>\n",
       "    <tr>\n",
       "      <th>2</th>\n",
       "      <td>X8.V1.1</td>\n",
       "      <td>-32</td>\n",
       "      <td>-39</td>\n",
       "      <td>-47</td>\n",
       "      <td>-37</td>\n",
       "      <td>-32</td>\n",
       "      <td>-36</td>\n",
       "      <td>-57</td>\n",
       "      <td>-73</td>\n",
       "      <td>-85</td>\n",
       "      <td>...</td>\n",
       "      <td>57</td>\n",
       "      <td>64</td>\n",
       "      <td>48</td>\n",
       "      <td>19</td>\n",
       "      <td>-12</td>\n",
       "      <td>-30</td>\n",
       "      <td>-35</td>\n",
       "      <td>-35</td>\n",
       "      <td>-36</td>\n",
       "      <td>5</td>\n",
       "    </tr>\n",
       "    <tr>\n",
       "      <th>3</th>\n",
       "      <td>X16.V1.60</td>\n",
       "      <td>-105</td>\n",
       "      <td>-101</td>\n",
       "      <td>-96</td>\n",
       "      <td>-92</td>\n",
       "      <td>-89</td>\n",
       "      <td>-95</td>\n",
       "      <td>-102</td>\n",
       "      <td>-100</td>\n",
       "      <td>-87</td>\n",
       "      <td>...</td>\n",
       "      <td>-82</td>\n",
       "      <td>-81</td>\n",
       "      <td>-80</td>\n",
       "      <td>-77</td>\n",
       "      <td>-85</td>\n",
       "      <td>-77</td>\n",
       "      <td>-72</td>\n",
       "      <td>-69</td>\n",
       "      <td>-65</td>\n",
       "      <td>5</td>\n",
       "    </tr>\n",
       "    <tr>\n",
       "      <th>4</th>\n",
       "      <td>X20.V1.54</td>\n",
       "      <td>-9</td>\n",
       "      <td>-65</td>\n",
       "      <td>-98</td>\n",
       "      <td>-102</td>\n",
       "      <td>-78</td>\n",
       "      <td>-48</td>\n",
       "      <td>-16</td>\n",
       "      <td>0</td>\n",
       "      <td>-21</td>\n",
       "      <td>...</td>\n",
       "      <td>4</td>\n",
       "      <td>2</td>\n",
       "      <td>-12</td>\n",
       "      <td>-32</td>\n",
       "      <td>-41</td>\n",
       "      <td>-65</td>\n",
       "      <td>-83</td>\n",
       "      <td>-89</td>\n",
       "      <td>-73</td>\n",
       "      <td>5</td>\n",
       "    </tr>\n",
       "  </tbody>\n",
       "</table>\n",
       "<p>5 rows × 180 columns</p>\n",
       "</div>"
      ],
      "text/plain": [
       "      Unnamed   X1   X2   X3   X4   X5   X6   X7   X8   X9  ...  X170  X171  \\\n",
       "0  X21.V1.791  135  190  229  223  192  125   55   -9  -33  ...   -17   -15   \n",
       "1  X15.V1.924  386  382  356  331  320  315  307  272  244  ...   164   150   \n",
       "2     X8.V1.1  -32  -39  -47  -37  -32  -36  -57  -73  -85  ...    57    64   \n",
       "3   X16.V1.60 -105 -101  -96  -92  -89  -95 -102 -100  -87  ...   -82   -81   \n",
       "4   X20.V1.54   -9  -65  -98 -102  -78  -48  -16    0  -21  ...     4     2   \n",
       "\n",
       "   X172  X173  X174  X175  X176  X177  X178  y  \n",
       "0   -31   -77  -103  -127  -116   -83   -51  4  \n",
       "1   146   152   157   156   154   143   129  1  \n",
       "2    48    19   -12   -30   -35   -35   -36  5  \n",
       "3   -80   -77   -85   -77   -72   -69   -65  5  \n",
       "4   -12   -32   -41   -65   -83   -89   -73  5  \n",
       "\n",
       "[5 rows x 180 columns]"
      ]
     },
     "execution_count": 2,
     "metadata": {},
     "output_type": "execute_result"
    }
   ],
   "source": [
    "data = pd.read_csv('Epileptic Seizure Recognition.csv')\n",
    "\n",
    "# view first 5 rows of the data\n",
    "data.head()"
   ]
  },
  {
   "cell_type": "code",
   "execution_count": 3,
   "metadata": {},
   "outputs": [
    {
     "name": "stdout",
     "output_type": "stream",
     "text": [
      "Number of records epileptic 2300 vs non-epileptic 9200\n"
     ]
    }
   ],
   "source": [
    "# drop first column, only contains metadata\n",
    "data.drop('Unnamed', axis=1, inplace=True)\n",
    "\n",
    "# classify having epileptic seizure or not label, 1 = seizure, 0 = no seizure\n",
    "class_relabeling = {1:1, 2:0, 3:0, 4:0, 5:0}\n",
    "data.replace({'y': class_relabeling}, inplace=True)\n",
    "\n",
    "counts = data['y'].value_counts()\n",
    "print(f\"Number of records epileptic {counts[1]} vs non-epileptic {counts[0]}\")\n"
   ]
  },
  {
   "cell_type": "code",
   "execution_count": 4,
   "metadata": {},
   "outputs": [
    {
     "data": {
      "text/html": [
       "<div>\n",
       "<style scoped>\n",
       "    .dataframe tbody tr th:only-of-type {\n",
       "        vertical-align: middle;\n",
       "    }\n",
       "\n",
       "    .dataframe tbody tr th {\n",
       "        vertical-align: top;\n",
       "    }\n",
       "\n",
       "    .dataframe thead th {\n",
       "        text-align: right;\n",
       "    }\n",
       "</style>\n",
       "<table border=\"1\" class=\"dataframe\">\n",
       "  <thead>\n",
       "    <tr style=\"text-align: right;\">\n",
       "      <th></th>\n",
       "      <th>X1</th>\n",
       "      <th>X2</th>\n",
       "      <th>X3</th>\n",
       "      <th>X4</th>\n",
       "      <th>X5</th>\n",
       "      <th>X6</th>\n",
       "      <th>X7</th>\n",
       "      <th>X8</th>\n",
       "      <th>X9</th>\n",
       "      <th>X10</th>\n",
       "      <th>...</th>\n",
       "      <th>X170</th>\n",
       "      <th>X171</th>\n",
       "      <th>X172</th>\n",
       "      <th>X173</th>\n",
       "      <th>X174</th>\n",
       "      <th>X175</th>\n",
       "      <th>X176</th>\n",
       "      <th>X177</th>\n",
       "      <th>X178</th>\n",
       "      <th>y</th>\n",
       "    </tr>\n",
       "  </thead>\n",
       "  <tbody>\n",
       "    <tr>\n",
       "      <th>0</th>\n",
       "      <td>135</td>\n",
       "      <td>190</td>\n",
       "      <td>229</td>\n",
       "      <td>223</td>\n",
       "      <td>192</td>\n",
       "      <td>125</td>\n",
       "      <td>55</td>\n",
       "      <td>-9</td>\n",
       "      <td>-33</td>\n",
       "      <td>-38</td>\n",
       "      <td>...</td>\n",
       "      <td>-17</td>\n",
       "      <td>-15</td>\n",
       "      <td>-31</td>\n",
       "      <td>-77</td>\n",
       "      <td>-103</td>\n",
       "      <td>-127</td>\n",
       "      <td>-116</td>\n",
       "      <td>-83</td>\n",
       "      <td>-51</td>\n",
       "      <td>0</td>\n",
       "    </tr>\n",
       "    <tr>\n",
       "      <th>1</th>\n",
       "      <td>386</td>\n",
       "      <td>382</td>\n",
       "      <td>356</td>\n",
       "      <td>331</td>\n",
       "      <td>320</td>\n",
       "      <td>315</td>\n",
       "      <td>307</td>\n",
       "      <td>272</td>\n",
       "      <td>244</td>\n",
       "      <td>232</td>\n",
       "      <td>...</td>\n",
       "      <td>164</td>\n",
       "      <td>150</td>\n",
       "      <td>146</td>\n",
       "      <td>152</td>\n",
       "      <td>157</td>\n",
       "      <td>156</td>\n",
       "      <td>154</td>\n",
       "      <td>143</td>\n",
       "      <td>129</td>\n",
       "      <td>1</td>\n",
       "    </tr>\n",
       "    <tr>\n",
       "      <th>2</th>\n",
       "      <td>-32</td>\n",
       "      <td>-39</td>\n",
       "      <td>-47</td>\n",
       "      <td>-37</td>\n",
       "      <td>-32</td>\n",
       "      <td>-36</td>\n",
       "      <td>-57</td>\n",
       "      <td>-73</td>\n",
       "      <td>-85</td>\n",
       "      <td>-94</td>\n",
       "      <td>...</td>\n",
       "      <td>57</td>\n",
       "      <td>64</td>\n",
       "      <td>48</td>\n",
       "      <td>19</td>\n",
       "      <td>-12</td>\n",
       "      <td>-30</td>\n",
       "      <td>-35</td>\n",
       "      <td>-35</td>\n",
       "      <td>-36</td>\n",
       "      <td>0</td>\n",
       "    </tr>\n",
       "    <tr>\n",
       "      <th>3</th>\n",
       "      <td>-105</td>\n",
       "      <td>-101</td>\n",
       "      <td>-96</td>\n",
       "      <td>-92</td>\n",
       "      <td>-89</td>\n",
       "      <td>-95</td>\n",
       "      <td>-102</td>\n",
       "      <td>-100</td>\n",
       "      <td>-87</td>\n",
       "      <td>-79</td>\n",
       "      <td>...</td>\n",
       "      <td>-82</td>\n",
       "      <td>-81</td>\n",
       "      <td>-80</td>\n",
       "      <td>-77</td>\n",
       "      <td>-85</td>\n",
       "      <td>-77</td>\n",
       "      <td>-72</td>\n",
       "      <td>-69</td>\n",
       "      <td>-65</td>\n",
       "      <td>0</td>\n",
       "    </tr>\n",
       "    <tr>\n",
       "      <th>4</th>\n",
       "      <td>-9</td>\n",
       "      <td>-65</td>\n",
       "      <td>-98</td>\n",
       "      <td>-102</td>\n",
       "      <td>-78</td>\n",
       "      <td>-48</td>\n",
       "      <td>-16</td>\n",
       "      <td>0</td>\n",
       "      <td>-21</td>\n",
       "      <td>-59</td>\n",
       "      <td>...</td>\n",
       "      <td>4</td>\n",
       "      <td>2</td>\n",
       "      <td>-12</td>\n",
       "      <td>-32</td>\n",
       "      <td>-41</td>\n",
       "      <td>-65</td>\n",
       "      <td>-83</td>\n",
       "      <td>-89</td>\n",
       "      <td>-73</td>\n",
       "      <td>0</td>\n",
       "    </tr>\n",
       "  </tbody>\n",
       "</table>\n",
       "<p>5 rows × 179 columns</p>\n",
       "</div>"
      ],
      "text/plain": [
       "    X1   X2   X3   X4   X5   X6   X7   X8   X9  X10  ...  X170  X171  X172  \\\n",
       "0  135  190  229  223  192  125   55   -9  -33  -38  ...   -17   -15   -31   \n",
       "1  386  382  356  331  320  315  307  272  244  232  ...   164   150   146   \n",
       "2  -32  -39  -47  -37  -32  -36  -57  -73  -85  -94  ...    57    64    48   \n",
       "3 -105 -101  -96  -92  -89  -95 -102 -100  -87  -79  ...   -82   -81   -80   \n",
       "4   -9  -65  -98 -102  -78  -48  -16    0  -21  -59  ...     4     2   -12   \n",
       "\n",
       "   X173  X174  X175  X176  X177  X178  y  \n",
       "0   -77  -103  -127  -116   -83   -51  0  \n",
       "1   152   157   156   154   143   129  1  \n",
       "2    19   -12   -30   -35   -35   -36  0  \n",
       "3   -77   -85   -77   -72   -69   -65  0  \n",
       "4   -32   -41   -65   -83   -89   -73  0  \n",
       "\n",
       "[5 rows x 179 columns]"
      ]
     },
     "execution_count": 4,
     "metadata": {},
     "output_type": "execute_result"
    }
   ],
   "source": [
    "data.head()"
   ]
  },
  {
   "cell_type": "code",
   "execution_count": 5,
   "metadata": {},
   "outputs": [
    {
     "data": {
      "text/html": [
       "<div>\n",
       "<style scoped>\n",
       "    .dataframe tbody tr th:only-of-type {\n",
       "        vertical-align: middle;\n",
       "    }\n",
       "\n",
       "    .dataframe tbody tr th {\n",
       "        vertical-align: top;\n",
       "    }\n",
       "\n",
       "    .dataframe thead th {\n",
       "        text-align: right;\n",
       "    }\n",
       "</style>\n",
       "<table border=\"1\" class=\"dataframe\">\n",
       "  <thead>\n",
       "    <tr style=\"text-align: right;\">\n",
       "      <th></th>\n",
       "      <th>count</th>\n",
       "      <th>mean</th>\n",
       "      <th>std</th>\n",
       "      <th>min</th>\n",
       "      <th>25%</th>\n",
       "      <th>50%</th>\n",
       "      <th>75%</th>\n",
       "      <th>max</th>\n",
       "    </tr>\n",
       "  </thead>\n",
       "  <tbody>\n",
       "    <tr>\n",
       "      <th>X1</th>\n",
       "      <td>9200.0</td>\n",
       "      <td>-8.992609</td>\n",
       "      <td>70.455286</td>\n",
       "      <td>-566.0</td>\n",
       "      <td>-44.0</td>\n",
       "      <td>-7.0</td>\n",
       "      <td>26.0</td>\n",
       "      <td>1726.0</td>\n",
       "    </tr>\n",
       "    <tr>\n",
       "      <th>X2</th>\n",
       "      <td>9200.0</td>\n",
       "      <td>-8.877174</td>\n",
       "      <td>70.560110</td>\n",
       "      <td>-609.0</td>\n",
       "      <td>-44.0</td>\n",
       "      <td>-7.0</td>\n",
       "      <td>27.0</td>\n",
       "      <td>1713.0</td>\n",
       "    </tr>\n",
       "    <tr>\n",
       "      <th>X3</th>\n",
       "      <td>9200.0</td>\n",
       "      <td>-8.910435</td>\n",
       "      <td>70.372582</td>\n",
       "      <td>-594.0</td>\n",
       "      <td>-45.0</td>\n",
       "      <td>-7.0</td>\n",
       "      <td>28.0</td>\n",
       "      <td>1697.0</td>\n",
       "    </tr>\n",
       "    <tr>\n",
       "      <th>X4</th>\n",
       "      <td>9200.0</td>\n",
       "      <td>-8.969783</td>\n",
       "      <td>70.030409</td>\n",
       "      <td>-549.0</td>\n",
       "      <td>-45.0</td>\n",
       "      <td>-8.0</td>\n",
       "      <td>27.0</td>\n",
       "      <td>1612.0</td>\n",
       "    </tr>\n",
       "    <tr>\n",
       "      <th>X5</th>\n",
       "      <td>9200.0</td>\n",
       "      <td>-9.085326</td>\n",
       "      <td>69.377958</td>\n",
       "      <td>-603.0</td>\n",
       "      <td>-45.0</td>\n",
       "      <td>-8.0</td>\n",
       "      <td>27.0</td>\n",
       "      <td>1437.0</td>\n",
       "    </tr>\n",
       "    <tr>\n",
       "      <th>...</th>\n",
       "      <td>...</td>\n",
       "      <td>...</td>\n",
       "      <td>...</td>\n",
       "      <td>...</td>\n",
       "      <td>...</td>\n",
       "      <td>...</td>\n",
       "      <td>...</td>\n",
       "      <td>...</td>\n",
       "    </tr>\n",
       "    <tr>\n",
       "      <th>X175</th>\n",
       "      <td>9200.0</td>\n",
       "      <td>-9.848587</td>\n",
       "      <td>69.550894</td>\n",
       "      <td>-570.0</td>\n",
       "      <td>-45.0</td>\n",
       "      <td>-9.0</td>\n",
       "      <td>27.0</td>\n",
       "      <td>1958.0</td>\n",
       "    </tr>\n",
       "    <tr>\n",
       "      <th>X176</th>\n",
       "      <td>9200.0</td>\n",
       "      <td>-9.620435</td>\n",
       "      <td>70.353607</td>\n",
       "      <td>-594.0</td>\n",
       "      <td>-46.0</td>\n",
       "      <td>-8.0</td>\n",
       "      <td>27.0</td>\n",
       "      <td>2047.0</td>\n",
       "    </tr>\n",
       "    <tr>\n",
       "      <th>X177</th>\n",
       "      <td>9200.0</td>\n",
       "      <td>-9.395435</td>\n",
       "      <td>70.934300</td>\n",
       "      <td>-563.0</td>\n",
       "      <td>-45.0</td>\n",
       "      <td>-9.0</td>\n",
       "      <td>27.0</td>\n",
       "      <td>2047.0</td>\n",
       "    </tr>\n",
       "    <tr>\n",
       "      <th>X178</th>\n",
       "      <td>9200.0</td>\n",
       "      <td>-9.240435</td>\n",
       "      <td>71.185850</td>\n",
       "      <td>-559.0</td>\n",
       "      <td>-45.0</td>\n",
       "      <td>-8.0</td>\n",
       "      <td>27.0</td>\n",
       "      <td>1915.0</td>\n",
       "    </tr>\n",
       "    <tr>\n",
       "      <th>y</th>\n",
       "      <td>9200.0</td>\n",
       "      <td>0.000000</td>\n",
       "      <td>0.000000</td>\n",
       "      <td>0.0</td>\n",
       "      <td>0.0</td>\n",
       "      <td>0.0</td>\n",
       "      <td>0.0</td>\n",
       "      <td>0.0</td>\n",
       "    </tr>\n",
       "  </tbody>\n",
       "</table>\n",
       "<p>179 rows × 8 columns</p>\n",
       "</div>"
      ],
      "text/plain": [
       "       count      mean        std    min   25%  50%   75%     max\n",
       "X1    9200.0 -8.992609  70.455286 -566.0 -44.0 -7.0  26.0  1726.0\n",
       "X2    9200.0 -8.877174  70.560110 -609.0 -44.0 -7.0  27.0  1713.0\n",
       "X3    9200.0 -8.910435  70.372582 -594.0 -45.0 -7.0  28.0  1697.0\n",
       "X4    9200.0 -8.969783  70.030409 -549.0 -45.0 -8.0  27.0  1612.0\n",
       "X5    9200.0 -9.085326  69.377958 -603.0 -45.0 -8.0  27.0  1437.0\n",
       "...      ...       ...        ...    ...   ...  ...   ...     ...\n",
       "X175  9200.0 -9.848587  69.550894 -570.0 -45.0 -9.0  27.0  1958.0\n",
       "X176  9200.0 -9.620435  70.353607 -594.0 -46.0 -8.0  27.0  2047.0\n",
       "X177  9200.0 -9.395435  70.934300 -563.0 -45.0 -9.0  27.0  2047.0\n",
       "X178  9200.0 -9.240435  71.185850 -559.0 -45.0 -8.0  27.0  1915.0\n",
       "y     9200.0  0.000000   0.000000    0.0   0.0  0.0   0.0     0.0\n",
       "\n",
       "[179 rows x 8 columns]"
      ]
     },
     "execution_count": 5,
     "metadata": {},
     "output_type": "execute_result"
    }
   ],
   "source": [
    "# describe non-epileptic data\n",
    "data[data['y'] == 0].describe().T"
   ]
  },
  {
   "cell_type": "code",
   "execution_count": 6,
   "metadata": {},
   "outputs": [
    {
     "data": {
      "text/html": [
       "<div>\n",
       "<style scoped>\n",
       "    .dataframe tbody tr th:only-of-type {\n",
       "        vertical-align: middle;\n",
       "    }\n",
       "\n",
       "    .dataframe tbody tr th {\n",
       "        vertical-align: top;\n",
       "    }\n",
       "\n",
       "    .dataframe thead th {\n",
       "        text-align: right;\n",
       "    }\n",
       "</style>\n",
       "<table border=\"1\" class=\"dataframe\">\n",
       "  <thead>\n",
       "    <tr style=\"text-align: right;\">\n",
       "      <th></th>\n",
       "      <th>count</th>\n",
       "      <th>mean</th>\n",
       "      <th>std</th>\n",
       "      <th>min</th>\n",
       "      <th>25%</th>\n",
       "      <th>50%</th>\n",
       "      <th>75%</th>\n",
       "      <th>max</th>\n",
       "    </tr>\n",
       "  </thead>\n",
       "  <tbody>\n",
       "    <tr>\n",
       "      <th>X1</th>\n",
       "      <td>2300.0</td>\n",
       "      <td>-21.936522</td>\n",
       "      <td>342.361939</td>\n",
       "      <td>-1839.0</td>\n",
       "      <td>-193.25</td>\n",
       "      <td>-16.0</td>\n",
       "      <td>159.00</td>\n",
       "      <td>1314.0</td>\n",
       "    </tr>\n",
       "    <tr>\n",
       "      <th>X2</th>\n",
       "      <td>2300.0</td>\n",
       "      <td>-19.049130</td>\n",
       "      <td>343.398782</td>\n",
       "      <td>-1838.0</td>\n",
       "      <td>-191.25</td>\n",
       "      <td>-18.0</td>\n",
       "      <td>168.25</td>\n",
       "      <td>1356.0</td>\n",
       "    </tr>\n",
       "    <tr>\n",
       "      <th>X3</th>\n",
       "      <td>2300.0</td>\n",
       "      <td>-15.293913</td>\n",
       "      <td>337.489643</td>\n",
       "      <td>-1835.0</td>\n",
       "      <td>-187.00</td>\n",
       "      <td>-12.5</td>\n",
       "      <td>169.25</td>\n",
       "      <td>1274.0</td>\n",
       "    </tr>\n",
       "    <tr>\n",
       "      <th>X4</th>\n",
       "      <td>2300.0</td>\n",
       "      <td>-9.836087</td>\n",
       "      <td>332.354833</td>\n",
       "      <td>-1845.0</td>\n",
       "      <td>-184.00</td>\n",
       "      <td>-6.0</td>\n",
       "      <td>166.25</td>\n",
       "      <td>1226.0</td>\n",
       "    </tr>\n",
       "    <tr>\n",
       "      <th>X5</th>\n",
       "      <td>2300.0</td>\n",
       "      <td>-3.707391</td>\n",
       "      <td>332.211163</td>\n",
       "      <td>-1791.0</td>\n",
       "      <td>-174.25</td>\n",
       "      <td>-12.0</td>\n",
       "      <td>170.00</td>\n",
       "      <td>1518.0</td>\n",
       "    </tr>\n",
       "    <tr>\n",
       "      <th>...</th>\n",
       "      <td>...</td>\n",
       "      <td>...</td>\n",
       "      <td>...</td>\n",
       "      <td>...</td>\n",
       "      <td>...</td>\n",
       "      <td>...</td>\n",
       "      <td>...</td>\n",
       "      <td>...</td>\n",
       "    </tr>\n",
       "    <tr>\n",
       "      <th>X175</th>\n",
       "      <td>2300.0</td>\n",
       "      <td>-25.830870</td>\n",
       "      <td>339.650467</td>\n",
       "      <td>-1863.0</td>\n",
       "      <td>-195.00</td>\n",
       "      <td>-14.5</td>\n",
       "      <td>153.25</td>\n",
       "      <td>1205.0</td>\n",
       "    </tr>\n",
       "    <tr>\n",
       "      <th>X176</th>\n",
       "      <td>2300.0</td>\n",
       "      <td>-25.043913</td>\n",
       "      <td>335.747017</td>\n",
       "      <td>-1781.0</td>\n",
       "      <td>-192.00</td>\n",
       "      <td>-18.0</td>\n",
       "      <td>150.00</td>\n",
       "      <td>1371.0</td>\n",
       "    </tr>\n",
       "    <tr>\n",
       "      <th>X177</th>\n",
       "      <td>2300.0</td>\n",
       "      <td>-24.548261</td>\n",
       "      <td>335.244512</td>\n",
       "      <td>-1727.0</td>\n",
       "      <td>-190.25</td>\n",
       "      <td>-21.5</td>\n",
       "      <td>151.25</td>\n",
       "      <td>1445.0</td>\n",
       "    </tr>\n",
       "    <tr>\n",
       "      <th>X178</th>\n",
       "      <td>2300.0</td>\n",
       "      <td>-24.016522</td>\n",
       "      <td>339.819309</td>\n",
       "      <td>-1829.0</td>\n",
       "      <td>-189.00</td>\n",
       "      <td>-23.0</td>\n",
       "      <td>157.25</td>\n",
       "      <td>1380.0</td>\n",
       "    </tr>\n",
       "    <tr>\n",
       "      <th>y</th>\n",
       "      <td>2300.0</td>\n",
       "      <td>1.000000</td>\n",
       "      <td>0.000000</td>\n",
       "      <td>1.0</td>\n",
       "      <td>1.00</td>\n",
       "      <td>1.0</td>\n",
       "      <td>1.00</td>\n",
       "      <td>1.0</td>\n",
       "    </tr>\n",
       "  </tbody>\n",
       "</table>\n",
       "<p>179 rows × 8 columns</p>\n",
       "</div>"
      ],
      "text/plain": [
       "       count       mean         std     min     25%   50%     75%     max\n",
       "X1    2300.0 -21.936522  342.361939 -1839.0 -193.25 -16.0  159.00  1314.0\n",
       "X2    2300.0 -19.049130  343.398782 -1838.0 -191.25 -18.0  168.25  1356.0\n",
       "X3    2300.0 -15.293913  337.489643 -1835.0 -187.00 -12.5  169.25  1274.0\n",
       "X4    2300.0  -9.836087  332.354833 -1845.0 -184.00  -6.0  166.25  1226.0\n",
       "X5    2300.0  -3.707391  332.211163 -1791.0 -174.25 -12.0  170.00  1518.0\n",
       "...      ...        ...         ...     ...     ...   ...     ...     ...\n",
       "X175  2300.0 -25.830870  339.650467 -1863.0 -195.00 -14.5  153.25  1205.0\n",
       "X176  2300.0 -25.043913  335.747017 -1781.0 -192.00 -18.0  150.00  1371.0\n",
       "X177  2300.0 -24.548261  335.244512 -1727.0 -190.25 -21.5  151.25  1445.0\n",
       "X178  2300.0 -24.016522  339.819309 -1829.0 -189.00 -23.0  157.25  1380.0\n",
       "y     2300.0   1.000000    0.000000     1.0    1.00   1.0    1.00     1.0\n",
       "\n",
       "[179 rows x 8 columns]"
      ]
     },
     "execution_count": 6,
     "metadata": {},
     "output_type": "execute_result"
    }
   ],
   "source": [
    "# describe epileptic data\n",
    "data[data['y'] == 1].describe().T"
   ]
  },
  {
   "cell_type": "code",
   "execution_count": 7,
   "metadata": {},
   "outputs": [],
   "source": [
    "# data is in 1s per row format\n",
    "# first unpivot into single time series, preserve target y, then take the original index, which is the\n",
    "# \"sample index\" of each sample\n",
    "data_unpivoted = (data\n",
    "                  .melt(id_vars=['y'], var_name='time_label', value_name='eeg', ignore_index=False)\n",
    "                  .reset_index()\n",
    "                  .rename(columns={'index': 'sample_index'})\n",
    "                  )\n",
    "\n",
    "# the time index is the index over the 1s time period in each original row in data\n",
    "data_unpivoted['time_index'] = (data_unpivoted['time_label']\n",
    "                                .str.extract(r'(\\d+)', expand=False)\n",
    "                                .astype(int)\n",
    "                                )\n",
    "\n",
    "# sort each window according to the sample and time and re-order columns\n",
    "data_unpivoted = (data_unpivoted\n",
    "                  .sort_values(by=['sample_index', 'time_index'])\n",
    "                  .reindex(['sample_index', 'time_index', 'eeg', 'y'], axis=1)\n",
    "                  )"
   ]
  },
  {
   "cell_type": "code",
   "execution_count": 8,
   "metadata": {},
   "outputs": [
    {
     "data": {
      "text/html": [
       "<div>\n",
       "<style scoped>\n",
       "    .dataframe tbody tr th:only-of-type {\n",
       "        vertical-align: middle;\n",
       "    }\n",
       "\n",
       "    .dataframe tbody tr th {\n",
       "        vertical-align: top;\n",
       "    }\n",
       "\n",
       "    .dataframe thead th {\n",
       "        text-align: right;\n",
       "    }\n",
       "</style>\n",
       "<table border=\"1\" class=\"dataframe\">\n",
       "  <thead>\n",
       "    <tr style=\"text-align: right;\">\n",
       "      <th></th>\n",
       "      <th>sample_index</th>\n",
       "      <th>time_index</th>\n",
       "      <th>eeg</th>\n",
       "      <th>y</th>\n",
       "    </tr>\n",
       "  </thead>\n",
       "  <tbody>\n",
       "    <tr>\n",
       "      <th>0</th>\n",
       "      <td>0</td>\n",
       "      <td>1</td>\n",
       "      <td>135</td>\n",
       "      <td>0</td>\n",
       "    </tr>\n",
       "    <tr>\n",
       "      <th>11500</th>\n",
       "      <td>0</td>\n",
       "      <td>2</td>\n",
       "      <td>190</td>\n",
       "      <td>0</td>\n",
       "    </tr>\n",
       "    <tr>\n",
       "      <th>23000</th>\n",
       "      <td>0</td>\n",
       "      <td>3</td>\n",
       "      <td>229</td>\n",
       "      <td>0</td>\n",
       "    </tr>\n",
       "    <tr>\n",
       "      <th>34500</th>\n",
       "      <td>0</td>\n",
       "      <td>4</td>\n",
       "      <td>223</td>\n",
       "      <td>0</td>\n",
       "    </tr>\n",
       "    <tr>\n",
       "      <th>46000</th>\n",
       "      <td>0</td>\n",
       "      <td>5</td>\n",
       "      <td>192</td>\n",
       "      <td>0</td>\n",
       "    </tr>\n",
       "    <tr>\n",
       "      <th>...</th>\n",
       "      <td>...</td>\n",
       "      <td>...</td>\n",
       "      <td>...</td>\n",
       "      <td>...</td>\n",
       "    </tr>\n",
       "    <tr>\n",
       "      <th>2000999</th>\n",
       "      <td>11499</td>\n",
       "      <td>174</td>\n",
       "      <td>5</td>\n",
       "      <td>0</td>\n",
       "    </tr>\n",
       "    <tr>\n",
       "      <th>2012499</th>\n",
       "      <td>11499</td>\n",
       "      <td>175</td>\n",
       "      <td>4</td>\n",
       "      <td>0</td>\n",
       "    </tr>\n",
       "    <tr>\n",
       "      <th>2023999</th>\n",
       "      <td>11499</td>\n",
       "      <td>176</td>\n",
       "      <td>-2</td>\n",
       "      <td>0</td>\n",
       "    </tr>\n",
       "    <tr>\n",
       "      <th>2035499</th>\n",
       "      <td>11499</td>\n",
       "      <td>177</td>\n",
       "      <td>2</td>\n",
       "      <td>0</td>\n",
       "    </tr>\n",
       "    <tr>\n",
       "      <th>2046999</th>\n",
       "      <td>11499</td>\n",
       "      <td>178</td>\n",
       "      <td>20</td>\n",
       "      <td>0</td>\n",
       "    </tr>\n",
       "  </tbody>\n",
       "</table>\n",
       "<p>2047000 rows × 4 columns</p>\n",
       "</div>"
      ],
      "text/plain": [
       "         sample_index  time_index  eeg  y\n",
       "0                   0           1  135  0\n",
       "11500               0           2  190  0\n",
       "23000               0           3  229  0\n",
       "34500               0           4  223  0\n",
       "46000               0           5  192  0\n",
       "...               ...         ...  ... ..\n",
       "2000999         11499         174    5  0\n",
       "2012499         11499         175    4  0\n",
       "2023999         11499         176   -2  0\n",
       "2035499         11499         177    2  0\n",
       "2046999         11499         178   20  0\n",
       "\n",
       "[2047000 rows x 4 columns]"
      ]
     },
     "execution_count": 8,
     "metadata": {},
     "output_type": "execute_result"
    }
   ],
   "source": [
    "data_unpivoted"
   ]
  },
  {
   "cell_type": "code",
   "execution_count": 9,
   "metadata": {},
   "outputs": [],
   "source": [
    "epi = 2300\n",
    "non_epi = 9200\n",
    "\n",
    "n = 5\n",
    "\n",
    "index_n_epileptic = data_unpivoted[data_unpivoted['y'] == 1][\"sample_index\"].unique()[:n]\n",
    "index_n_nonepileptic = data_unpivoted[data_unpivoted['y'] == 0][\"sample_index\"].unique()[:n]\n",
    "\n",
    "samples_to_show = np.concatenate((index_n_epileptic, index_n_nonepileptic))"
   ]
  },
  {
   "cell_type": "code",
   "execution_count": 10,
   "metadata": {},
   "outputs": [],
   "source": [
    "#\n"
   ]
  },
  {
   "cell_type": "code",
   "execution_count": 10,
   "metadata": {},
   "outputs": [],
   "source": [
    "import warnings\n",
    "warnings.filterwarnings(\"ignore\", \"is_categorical_dtype\")\n",
    "warnings.filterwarnings(\"ignore\", \"use_inf_as_na\")\n"
   ]
  },
  {
   "cell_type": "code",
   "execution_count": 11,
   "metadata": {},
   "outputs": [
    {
     "data": {
      "image/png": "[encoded data removed]",
      "text/plain": [
       "<Figure size 1096.86x500 with 2 Axes>"
      ]
     },
     "metadata": {},
     "output_type": "display_data"
    }
   ],
   "source": [
    "g = sns.relplot(\n",
    "    data=data_unpivoted[data_unpivoted[\"sample_index\"].isin(samples_to_show)],\n",
    "    kind='line',\n",
    "    x='time_index',\n",
    "    y='eeg',\n",
    "    col='y',\n",
    "    hue='sample_index',\n",
    "    legend='full',\n",
    "    palette=sns.color_palette()\n",
    ")\n"
   ]
  },
  {
   "cell_type": "code",
   "execution_count": null,
   "metadata": {},
   "outputs": [],
   "source": [
    "g = sns.catplot(\n",
    "    data=data_unpivoted.groupby([\"sample_index\", \"y\"]).std().reset_index(),\n",
    "    kind='box',\n",
    "    x='y',\n",
    "    y='eeg',\n",
    ")\n",
    "g.set_ylabels(\"std of eeg\")"
   ]
  },
  {
   "cell_type": "code",
   "execution_count": 14,
   "metadata": {},
   "outputs": [],
   "source": [
    "#epi = 2300\n",
    "#non_epi = 9200\n",
    "\n",
    "#index_n_epileptic = data_unpivoted[data_unpivoted['y'] == 1][\"sample_index\"].unique()[:epi]\n",
    "#index_n_nonepileptic = data_unpivoted[data_unpivoted['y'] == 0][\"sample_index\"].unique()[:non_epi]\n",
    "\n",
    "#samples_to_show = np.concatenate((index_n_epileptic, index_n_nonepileptic))\n",
    "\n",
    "#index_n_epileptic"
   ]
  },
  {
   "cell_type": "markdown",
   "metadata": {},
   "source": [
    "### Join into time series\n"
   ]
  },
  {
   "cell_type": "code",
   "execution_count": 10,
   "metadata": {},
   "outputs": [
    {
     "data": {
      "text/html": [
       "<div>\n",
       "<style scoped>\n",
       "    .dataframe tbody tr th:only-of-type {\n",
       "        vertical-align: middle;\n",
       "    }\n",
       "\n",
       "    .dataframe tbody tr th {\n",
       "        vertical-align: top;\n",
       "    }\n",
       "\n",
       "    .dataframe thead th {\n",
       "        text-align: right;\n",
       "    }\n",
       "</style>\n",
       "<table border=\"1\" class=\"dataframe\">\n",
       "  <thead>\n",
       "    <tr style=\"text-align: right;\">\n",
       "      <th>time_index</th>\n",
       "      <th>1</th>\n",
       "      <th>2</th>\n",
       "      <th>3</th>\n",
       "      <th>4</th>\n",
       "      <th>5</th>\n",
       "      <th>6</th>\n",
       "      <th>7</th>\n",
       "      <th>8</th>\n",
       "      <th>9</th>\n",
       "      <th>10</th>\n",
       "      <th>...</th>\n",
       "      <th>169</th>\n",
       "      <th>170</th>\n",
       "      <th>171</th>\n",
       "      <th>172</th>\n",
       "      <th>173</th>\n",
       "      <th>174</th>\n",
       "      <th>175</th>\n",
       "      <th>176</th>\n",
       "      <th>177</th>\n",
       "      <th>178</th>\n",
       "    </tr>\n",
       "    <tr>\n",
       "      <th>sample_index</th>\n",
       "      <th></th>\n",
       "      <th></th>\n",
       "      <th></th>\n",
       "      <th></th>\n",
       "      <th></th>\n",
       "      <th></th>\n",
       "      <th></th>\n",
       "      <th></th>\n",
       "      <th></th>\n",
       "      <th></th>\n",
       "      <th></th>\n",
       "      <th></th>\n",
       "      <th></th>\n",
       "      <th></th>\n",
       "      <th></th>\n",
       "      <th></th>\n",
       "      <th></th>\n",
       "      <th></th>\n",
       "      <th></th>\n",
       "      <th></th>\n",
       "      <th></th>\n",
       "    </tr>\n",
       "  </thead>\n",
       "  <tbody>\n",
       "    <tr>\n",
       "      <th>0</th>\n",
       "      <td>135</td>\n",
       "      <td>190</td>\n",
       "      <td>229</td>\n",
       "      <td>223</td>\n",
       "      <td>192</td>\n",
       "      <td>125</td>\n",
       "      <td>55</td>\n",
       "      <td>-9</td>\n",
       "      <td>-33</td>\n",
       "      <td>-38</td>\n",
       "      <td>...</td>\n",
       "      <td>8</td>\n",
       "      <td>-17</td>\n",
       "      <td>-15</td>\n",
       "      <td>-31</td>\n",
       "      <td>-77</td>\n",
       "      <td>-103</td>\n",
       "      <td>-127</td>\n",
       "      <td>-116</td>\n",
       "      <td>-83</td>\n",
       "      <td>-51</td>\n",
       "    </tr>\n",
       "    <tr>\n",
       "      <th>1</th>\n",
       "      <td>386</td>\n",
       "      <td>382</td>\n",
       "      <td>356</td>\n",
       "      <td>331</td>\n",
       "      <td>320</td>\n",
       "      <td>315</td>\n",
       "      <td>307</td>\n",
       "      <td>272</td>\n",
       "      <td>244</td>\n",
       "      <td>232</td>\n",
       "      <td>...</td>\n",
       "      <td>168</td>\n",
       "      <td>164</td>\n",
       "      <td>150</td>\n",
       "      <td>146</td>\n",
       "      <td>152</td>\n",
       "      <td>157</td>\n",
       "      <td>156</td>\n",
       "      <td>154</td>\n",
       "      <td>143</td>\n",
       "      <td>129</td>\n",
       "    </tr>\n",
       "    <tr>\n",
       "      <th>2</th>\n",
       "      <td>-32</td>\n",
       "      <td>-39</td>\n",
       "      <td>-47</td>\n",
       "      <td>-37</td>\n",
       "      <td>-32</td>\n",
       "      <td>-36</td>\n",
       "      <td>-57</td>\n",
       "      <td>-73</td>\n",
       "      <td>-85</td>\n",
       "      <td>-94</td>\n",
       "      <td>...</td>\n",
       "      <td>29</td>\n",
       "      <td>57</td>\n",
       "      <td>64</td>\n",
       "      <td>48</td>\n",
       "      <td>19</td>\n",
       "      <td>-12</td>\n",
       "      <td>-30</td>\n",
       "      <td>-35</td>\n",
       "      <td>-35</td>\n",
       "      <td>-36</td>\n",
       "    </tr>\n",
       "    <tr>\n",
       "      <th>3</th>\n",
       "      <td>-105</td>\n",
       "      <td>-101</td>\n",
       "      <td>-96</td>\n",
       "      <td>-92</td>\n",
       "      <td>-89</td>\n",
       "      <td>-95</td>\n",
       "      <td>-102</td>\n",
       "      <td>-100</td>\n",
       "      <td>-87</td>\n",
       "      <td>-79</td>\n",
       "      <td>...</td>\n",
       "      <td>-80</td>\n",
       "      <td>-82</td>\n",
       "      <td>-81</td>\n",
       "      <td>-80</td>\n",
       "      <td>-77</td>\n",
       "      <td>-85</td>\n",
       "      <td>-77</td>\n",
       "      <td>-72</td>\n",
       "      <td>-69</td>\n",
       "      <td>-65</td>\n",
       "    </tr>\n",
       "    <tr>\n",
       "      <th>4</th>\n",
       "      <td>-9</td>\n",
       "      <td>-65</td>\n",
       "      <td>-98</td>\n",
       "      <td>-102</td>\n",
       "      <td>-78</td>\n",
       "      <td>-48</td>\n",
       "      <td>-16</td>\n",
       "      <td>0</td>\n",
       "      <td>-21</td>\n",
       "      <td>-59</td>\n",
       "      <td>...</td>\n",
       "      <td>10</td>\n",
       "      <td>4</td>\n",
       "      <td>2</td>\n",
       "      <td>-12</td>\n",
       "      <td>-32</td>\n",
       "      <td>-41</td>\n",
       "      <td>-65</td>\n",
       "      <td>-83</td>\n",
       "      <td>-89</td>\n",
       "      <td>-73</td>\n",
       "    </tr>\n",
       "    <tr>\n",
       "      <th>...</th>\n",
       "      <td>...</td>\n",
       "      <td>...</td>\n",
       "      <td>...</td>\n",
       "      <td>...</td>\n",
       "      <td>...</td>\n",
       "      <td>...</td>\n",
       "      <td>...</td>\n",
       "      <td>...</td>\n",
       "      <td>...</td>\n",
       "      <td>...</td>\n",
       "      <td>...</td>\n",
       "      <td>...</td>\n",
       "      <td>...</td>\n",
       "      <td>...</td>\n",
       "      <td>...</td>\n",
       "      <td>...</td>\n",
       "      <td>...</td>\n",
       "      <td>...</td>\n",
       "      <td>...</td>\n",
       "      <td>...</td>\n",
       "      <td>...</td>\n",
       "    </tr>\n",
       "    <tr>\n",
       "      <th>11495</th>\n",
       "      <td>-22</td>\n",
       "      <td>-22</td>\n",
       "      <td>-23</td>\n",
       "      <td>-26</td>\n",
       "      <td>-36</td>\n",
       "      <td>-42</td>\n",
       "      <td>-45</td>\n",
       "      <td>-42</td>\n",
       "      <td>-45</td>\n",
       "      <td>-49</td>\n",
       "      <td>...</td>\n",
       "      <td>20</td>\n",
       "      <td>15</td>\n",
       "      <td>16</td>\n",
       "      <td>12</td>\n",
       "      <td>5</td>\n",
       "      <td>-1</td>\n",
       "      <td>-18</td>\n",
       "      <td>-37</td>\n",
       "      <td>-47</td>\n",
       "      <td>-48</td>\n",
       "    </tr>\n",
       "    <tr>\n",
       "      <th>11496</th>\n",
       "      <td>-47</td>\n",
       "      <td>-11</td>\n",
       "      <td>28</td>\n",
       "      <td>77</td>\n",
       "      <td>141</td>\n",
       "      <td>211</td>\n",
       "      <td>246</td>\n",
       "      <td>240</td>\n",
       "      <td>193</td>\n",
       "      <td>136</td>\n",
       "      <td>...</td>\n",
       "      <td>-94</td>\n",
       "      <td>-65</td>\n",
       "      <td>-33</td>\n",
       "      <td>-7</td>\n",
       "      <td>14</td>\n",
       "      <td>27</td>\n",
       "      <td>48</td>\n",
       "      <td>77</td>\n",
       "      <td>117</td>\n",
       "      <td>170</td>\n",
       "    </tr>\n",
       "    <tr>\n",
       "      <th>11497</th>\n",
       "      <td>14</td>\n",
       "      <td>6</td>\n",
       "      <td>-13</td>\n",
       "      <td>-16</td>\n",
       "      <td>10</td>\n",
       "      <td>26</td>\n",
       "      <td>27</td>\n",
       "      <td>-9</td>\n",
       "      <td>4</td>\n",
       "      <td>14</td>\n",
       "      <td>...</td>\n",
       "      <td>-42</td>\n",
       "      <td>-65</td>\n",
       "      <td>-48</td>\n",
       "      <td>-61</td>\n",
       "      <td>-62</td>\n",
       "      <td>-67</td>\n",
       "      <td>-30</td>\n",
       "      <td>-2</td>\n",
       "      <td>-1</td>\n",
       "      <td>-8</td>\n",
       "    </tr>\n",
       "    <tr>\n",
       "      <th>11498</th>\n",
       "      <td>-40</td>\n",
       "      <td>-25</td>\n",
       "      <td>-9</td>\n",
       "      <td>-12</td>\n",
       "      <td>-2</td>\n",
       "      <td>12</td>\n",
       "      <td>7</td>\n",
       "      <td>19</td>\n",
       "      <td>22</td>\n",
       "      <td>29</td>\n",
       "      <td>...</td>\n",
       "      <td>114</td>\n",
       "      <td>121</td>\n",
       "      <td>135</td>\n",
       "      <td>148</td>\n",
       "      <td>143</td>\n",
       "      <td>116</td>\n",
       "      <td>86</td>\n",
       "      <td>68</td>\n",
       "      <td>59</td>\n",
       "      <td>55</td>\n",
       "    </tr>\n",
       "    <tr>\n",
       "      <th>11499</th>\n",
       "      <td>29</td>\n",
       "      <td>41</td>\n",
       "      <td>57</td>\n",
       "      <td>72</td>\n",
       "      <td>74</td>\n",
       "      <td>62</td>\n",
       "      <td>54</td>\n",
       "      <td>43</td>\n",
       "      <td>31</td>\n",
       "      <td>23</td>\n",
       "      <td>...</td>\n",
       "      <td>-94</td>\n",
       "      <td>-59</td>\n",
       "      <td>-25</td>\n",
       "      <td>-4</td>\n",
       "      <td>2</td>\n",
       "      <td>5</td>\n",
       "      <td>4</td>\n",
       "      <td>-2</td>\n",
       "      <td>2</td>\n",
       "      <td>20</td>\n",
       "    </tr>\n",
       "  </tbody>\n",
       "</table>\n",
       "<p>11500 rows × 178 columns</p>\n",
       "</div>"
      ],
      "text/plain": [
       "time_index    1    2    3    4    5    6    7    8    9    10   ...  169  170  \\\n",
       "sample_index                                                    ...             \n",
       "0             135  190  229  223  192  125   55   -9  -33  -38  ...    8  -17   \n",
       "1             386  382  356  331  320  315  307  272  244  232  ...  168  164   \n",
       "2             -32  -39  -47  -37  -32  -36  -57  -73  -85  -94  ...   29   57   \n",
       "3            -105 -101  -96  -92  -89  -95 -102 -100  -87  -79  ...  -80  -82   \n",
       "4              -9  -65  -98 -102  -78  -48  -16    0  -21  -59  ...   10    4   \n",
       "...           ...  ...  ...  ...  ...  ...  ...  ...  ...  ...  ...  ...  ...   \n",
       "11495         -22  -22  -23  -26  -36  -42  -45  -42  -45  -49  ...   20   15   \n",
       "11496         -47  -11   28   77  141  211  246  240  193  136  ...  -94  -65   \n",
       "11497          14    6  -13  -16   10   26   27   -9    4   14  ...  -42  -65   \n",
       "11498         -40  -25   -9  -12   -2   12    7   19   22   29  ...  114  121   \n",
       "11499          29   41   57   72   74   62   54   43   31   23  ...  -94  -59   \n",
       "\n",
       "time_index    171  172  173  174  175  176  177  178  \n",
       "sample_index                                          \n",
       "0             -15  -31  -77 -103 -127 -116  -83  -51  \n",
       "1             150  146  152  157  156  154  143  129  \n",
       "2              64   48   19  -12  -30  -35  -35  -36  \n",
       "3             -81  -80  -77  -85  -77  -72  -69  -65  \n",
       "4               2  -12  -32  -41  -65  -83  -89  -73  \n",
       "...           ...  ...  ...  ...  ...  ...  ...  ...  \n",
       "11495          16   12    5   -1  -18  -37  -47  -48  \n",
       "11496         -33   -7   14   27   48   77  117  170  \n",
       "11497         -48  -61  -62  -67  -30   -2   -1   -8  \n",
       "11498         135  148  143  116   86   68   59   55  \n",
       "11499         -25   -4    2    5    4   -2    2   20  \n",
       "\n",
       "[11500 rows x 178 columns]"
      ]
     },
     "execution_count": 10,
     "metadata": {},
     "output_type": "execute_result"
    }
   ],
   "source": [
    "timeseries_df = data_unpivoted.pivot(index='sample_index', columns='time_index', values='eeg')\n",
    "\n",
    "\n",
    "y = np.zeros(11500)\n",
    "for i in range(0,len(data_unpivoted)//178):\n",
    "    y[i] = data_unpivoted.iloc[i*178]['y']\n",
    "\n",
    "#pivot_df['y'] = y\n",
    "\n",
    "timeseries_df\n"
   ]
  },
  {
   "cell_type": "code",
   "execution_count": 11,
   "metadata": {},
   "outputs": [
    {
     "data": {
      "text/plain": [
       "array([[ 135,  190,  229, ..., -116,  -83,  -51],\n",
       "       [ 386,  382,  356, ...,  154,  143,  129],\n",
       "       [ -32,  -39,  -47, ...,  -35,  -35,  -36],\n",
       "       ...,\n",
       "       [  14,    6,  -13, ...,   -2,   -1,   -8],\n",
       "       [ -40,  -25,   -9, ...,   68,   59,   55],\n",
       "       [  29,   41,   57, ...,   -2,    2,   20]], dtype=int64)"
      ]
     },
     "execution_count": 11,
     "metadata": {},
     "output_type": "execute_result"
    }
   ],
   "source": [
    "timeseries_data = timeseries_df.to_numpy()\n",
    "timeseries_data"
   ]
  },
  {
   "cell_type": "markdown",
   "metadata": {},
   "source": [
    "### Split into training and test set"
   ]
  },
  {
   "cell_type": "code",
   "execution_count": 12,
   "metadata": {},
   "outputs": [],
   "source": [
    "from sklearn.model_selection import train_test_split\n",
    "\n",
    "X_train, X_test, y_train, y_test = train_test_split(timeseries_data, y, test_size=0.2, random_state=42)"
   ]
  },
  {
   "cell_type": "code",
   "execution_count": 13,
   "metadata": {},
   "outputs": [
    {
     "data": {
      "text/plain": [
       "array([[ -66,  -75,  -95, ...,   81,  -30, -117],\n",
       "       [ -77,  -50,  -36, ...,   63,   77,   49],\n",
       "       [ -74,  -67,  -58, ...,   68,   74,   70],\n",
       "       ...,\n",
       "       [  90,   26,  -58, ...,   15,  -26,  -72],\n",
       "       [  91,   79,   55, ...,  223,  232,  229],\n",
       "       [ -46,   16,   40, ...,  -54,  -80,  -90]], dtype=int64)"
      ]
     },
     "execution_count": 13,
     "metadata": {},
     "output_type": "execute_result"
    }
   ],
   "source": [
    "X_train"
   ]
  },
  {
   "cell_type": "code",
   "execution_count": 13,
   "metadata": {},
   "outputs": [
    {
     "data": {
      "text/plain": [
       "array([1., 0., 0., ..., 0., 1., 0.])"
      ]
     },
     "execution_count": 13,
     "metadata": {},
     "output_type": "execute_result"
    }
   ],
   "source": [
    "y_train"
   ]
  },
  {
   "cell_type": "markdown",
   "metadata": {},
   "source": [
    "### Take fourier transform of data\n",
    "\n",
    "data originally 23.6s sampled into 4096 data points, so sampling rate = 173.559 Hz"
   ]
  },
  {
   "cell_type": "code",
   "execution_count": 16,
   "metadata": {},
   "outputs": [],
   "source": [
    "fs = 173.559"
   ]
  },
  {
   "cell_type": "code",
   "execution_count": 32,
   "metadata": {},
   "outputs": [
    {
     "name": "stderr",
     "output_type": "stream",
     "text": [
      "C:\\Users\\tranl\\AppData\\Local\\Temp\\ipykernel_14716\\2831559790.py:7: ComplexWarning: Casting complex values to real discards the imaginary part\n",
      "  X_train_fft[i,:] = np.fft.fftshift(np.fft.fft(X_train[i,:]))\n",
      "C:\\Users\\tranl\\AppData\\Local\\Temp\\ipykernel_14716\\2831559790.py:11: ComplexWarning: Casting complex values to real discards the imaginary part\n",
      "  X_test_fft[i,:] = np.fft.fftshift(np.fft.fft(X_test[i,:]))\n"
     ]
    }
   ],
   "source": [
    "\n",
    "N = len(X_train[0,:])\n",
    "time = np.linspace(0,N-1, N) / fs\n",
    "freq = fs * np.linspace(-N//2, N//2, N, dtype = float) / N\n",
    "\n",
    "X_train_fft = np.zeros(X_train.shape)\n",
    "for i in range(len(X_train[:,1])):\n",
    "    X_train_fft[i,:] = np.fft.fftshift(np.fft.fft(X_train[i,:]))\n",
    "\n",
    "X_test_fft = np.zeros(X_test.shape)\n",
    "for i in range(len(X_test[:,1])):\n",
    "    X_test_fft[i,:] = np.fft.fftshift(np.fft.fft(X_test[i,:]))\n",
    "\n"
   ]
  },
  {
   "cell_type": "code",
   "execution_count": 15,
   "metadata": {},
   "outputs": [
    {
     "name": "stdout",
     "output_type": "stream",
     "text": [
      "178\n"
     ]
    },
    {
     "data": {
      "text/plain": [
       "Text(0, 0.5, 'Magnitude')"
      ]
     },
     "execution_count": 15,
     "metadata": {},
     "output_type": "execute_result"
    },
    {
     "data": {
      "image/png": "[encoded data removed]",
      "text/plain": [
       "<Figure size 640x480 with 1 Axes>"
      ]
     },
     "metadata": {},
     "output_type": "display_data"
    }
   ],
   "source": [
    "print(len(freq))\n",
    "plt.plot(freq, abs(X_train_fft[0,:]))\n",
    "plt.title('Plot of FFT of First X_train sample, y = 1')\n",
    "plt.xlabel('Frequency')\n",
    "plt.ylabel('Magnitude')"
   ]
  },
  {
   "cell_type": "code",
   "execution_count": 16,
   "metadata": {},
   "outputs": [
    {
     "name": "stdout",
     "output_type": "stream",
     "text": [
      "178\n"
     ]
    },
    {
     "data": {
      "text/plain": [
       "Text(0, 0.5, 'Magnitude')"
      ]
     },
     "execution_count": 16,
     "metadata": {},
     "output_type": "execute_result"
    },
    {
     "data": {
      "image/png": "[encoded data removed]",
      "text/plain": [
       "<Figure size 640x480 with 1 Axes>"
      ]
     },
     "metadata": {},
     "output_type": "display_data"
    }
   ],
   "source": [
    "print(len(freq))\n",
    "plt.plot(freq, abs(X_train_fft[1,:]))\n",
    "plt.title('Plot of FFT of First X_train sample, y = 0')\n",
    "plt.xlabel('Frequency')\n",
    "plt.ylabel('Magnitude')"
   ]
  },
  {
   "cell_type": "markdown",
   "metadata": {},
   "source": [
    "### Take Wavelet Transfrom using CWT"
   ]
  },
  {
   "cell_type": "code",
   "execution_count": 14,
   "metadata": {},
   "outputs": [],
   "source": [
    "import pywt"
   ]
  },
  {
   "cell_type": "code",
   "execution_count": 17,
   "metadata": {},
   "outputs": [
    {
     "name": "stderr",
     "output_type": "stream",
     "text": [
      "c:\\Users\\tranl\\anaconda3\\envs\\ee269_env\\lib\\site-packages\\pywt\\_cwt.py:117: FutureWarning: Wavelets from the family cmor, without parameters specified in the name are deprecated. The name should takethe form cmorB-C where B and C are floats representing the bandwidth frequency and center frequency, respectively (example: cmor1.5-1.0).\n",
      "  wavelet = DiscreteContinuousWavelet(wavelet)\n"
     ]
    },
    {
     "ename": "NameError",
     "evalue": "name 'N' is not defined",
     "output_type": "error",
     "traceback": [
      "\u001b[1;31m---------------------------------------------------------------------------\u001b[0m",
      "\u001b[1;31mNameError\u001b[0m                                 Traceback (most recent call last)",
      "\u001b[1;32mc:\\Users\\tranl\\Documents\\Stanford\\Fall 2023\\EE 269\\EE269_Final_Project\\ee269_final_project_coding.ipynb Cell 30\u001b[0m line \u001b[0;36m1\n\u001b[0;32m     <a href='vscode-notebook-cell:/c%3A/Users/tranl/Documents/Stanford/Fall%202023/EE%20269/EE269_Final_Project/ee269_final_project_coding.ipynb#X40sZmlsZQ%3D%3D?line=12'>13</a>\u001b[0m     cwtmat,freq_cwt \u001b[39m=\u001b[39m pywt\u001b[39m.\u001b[39mcwt(X_test[i], widths, wavelet, sampling_period \u001b[39m=\u001b[39m \u001b[39m1\u001b[39m\u001b[39m/\u001b[39mfs)\n\u001b[0;32m     <a href='vscode-notebook-cell:/c%3A/Users/tranl/Documents/Stanford/Fall%202023/EE%20269/EE269_Final_Project/ee269_final_project_coding.ipynb#X40sZmlsZQ%3D%3D?line=13'>14</a>\u001b[0m     X_test_cwt\u001b[39m.\u001b[39mappend(cwtmat)\n\u001b[1;32m---> <a href='vscode-notebook-cell:/c%3A/Users/tranl/Documents/Stanford/Fall%202023/EE%20269/EE269_Final_Project/ee269_final_project_coding.ipynb#X40sZmlsZQ%3D%3D?line=15'>16</a>\u001b[0m duration \u001b[39m=\u001b[39m N\u001b[39m/\u001b[39mfs\n\u001b[0;32m     <a href='vscode-notebook-cell:/c%3A/Users/tranl/Documents/Stanford/Fall%202023/EE%20269/EE269_Final_Project/ee269_final_project_coding.ipynb#X40sZmlsZQ%3D%3D?line=16'>17</a>\u001b[0m time \u001b[39m=\u001b[39m np\u001b[39m.\u001b[39marange(N)\u001b[39m/\u001b[39mfs\n",
      "\u001b[1;31mNameError\u001b[0m: name 'N' is not defined"
     ]
    }
   ],
   "source": [
    "width = fs\n",
    "widths = np.arange(1, width)\n",
    "wavelet = 'cmor'\n",
    "\n",
    "\n",
    "X_train_cwt = []\n",
    "for i in range(len(X_train)):\n",
    "    cwtmat, freq_cwt = pywt.cwt(X_train[i],  widths, wavelet, sampling_period = 1/fs)\n",
    "    X_train_cwt.append(cwtmat)\n",
    "\n",
    "X_test_cwt = []\n",
    "for i in range(len(X_test)):\n",
    "    cwtmat,freq_cwt = pywt.cwt(X_test[i], widths, wavelet, sampling_period = 1/fs)\n",
    "    X_test_cwt.append(cwtmat)\n",
    "    \n",
    "#duration = N/fs\n",
    "#time = np.arange(N)/fs\n",
    "#print(time)"
   ]
  },
  {
   "cell_type": "code",
   "execution_count": 25,
   "metadata": {},
   "outputs": [],
   "source": [
    "#print(len(time))\n",
    "#cwtmat, freq_cwt = pywt.cwt(X_train[i], widths, 'mexh', sampling_period = 1/fs)\n",
    "#print(cwtmat.shape)"
   ]
  },
  {
   "cell_type": "code",
   "execution_count": 18,
   "metadata": {},
   "outputs": [
    {
     "name": "stdout",
     "output_type": "stream",
     "text": [
      "(9200, 173, 178)\n",
      "(2300, 173, 178)\n"
     ]
    }
   ],
   "source": [
    "X_train_cwt = np.array(X_train_cwt)\n",
    "X_test_cwt = np.array(X_test_cwt)\n",
    "\n",
    "print(X_train_cwt.shape)\n",
    "print(X_test_cwt.shape)"
   ]
  },
  {
   "cell_type": "code",
   "execution_count": 20,
   "metadata": {},
   "outputs": [
    {
     "name": "stdout",
     "output_type": "stream",
     "text": [
      "(173, 178)\n"
     ]
    },
    {
     "name": "stderr",
     "output_type": "stream",
     "text": [
      "c:\\Users\\tranl\\anaconda3\\envs\\ee269_env\\lib\\site-packages\\matplotlib\\contour.py:1578: ComplexWarning: Casting complex values to real discards the imaginary part\n",
      "  self.zmax = z.max().astype(float)\n",
      "c:\\Users\\tranl\\anaconda3\\envs\\ee269_env\\lib\\site-packages\\matplotlib\\contour.py:1579: ComplexWarning: Casting complex values to real discards the imaginary part\n",
      "  self.zmin = z.min().astype(float)\n",
      "c:\\Users\\tranl\\anaconda3\\envs\\ee269_env\\lib\\site-packages\\numpy\\ma\\core.py:2820: ComplexWarning: Casting complex values to real discards the imaginary part\n",
      "  _data = np.array(data, dtype=dtype, copy=copy,\n"
     ]
    },
    {
     "data": {
      "text/plain": [
       "Text(0.5, 1.0, 'cwt of x_train sample 1, y = 0')"
      ]
     },
     "execution_count": 20,
     "metadata": {},
     "output_type": "execute_result"
    },
    {
     "data": {
      "image/png": "[encoded data removed]",
      "text/plain": [
       "<Figure size 1800x600 with 2 Axes>"
      ]
     },
     "metadata": {},
     "output_type": "display_data"
    }
   ],
   "source": [
    "fig, ax = plt.subplots(1, 2, figsize = (18,6))\n",
    "x_train_1 = X_train_cwt[1]\n",
    "print(x_train_1.shape)\n",
    "ax[0].contourf(time, freq_cwt, X_train_cwt[0], cmap = 'PRGn')\n",
    "ax[0].set_xlim([0, N/fs])\n",
    "ax[0].set_xlabel('Time (s)')\n",
    "ax[0].set_yscale('log')\n",
    "ax[0].set_ylabel('Frequency (Hz)')\n",
    "ax[0].set_title('cwt of x_train sample 0, y = 1')\n",
    "ax[1].contourf(time, freq_cwt, X_train_cwt[1], cmap = 'PRGn')\n",
    "ax[1].set_xlim([0, N/fs])\n",
    "ax[1].set_xlabel('Time (s)')\n",
    "ax[1].set_yscale('log')\n",
    "ax[1].set_ylabel('Frequency (Hz)')\n",
    "ax[1].set_title('cwt of x_train sample 1, y = 0')"
   ]
  },
  {
   "cell_type": "markdown",
   "metadata": {},
   "source": [
    "### SVM Classifier\n",
    "#### Train Linear SVM on time series data"
   ]
  },
  {
   "cell_type": "code",
   "execution_count": 26,
   "metadata": {},
   "outputs": [],
   "source": [
    "from sklearn.svm import LinearSVC\n",
    "from sklearn.metrics import accuracy_score, classification_report, confusion_matrix"
   ]
  },
  {
   "cell_type": "code",
   "execution_count": 28,
   "metadata": {},
   "outputs": [
    {
     "name": "stderr",
     "output_type": "stream",
     "text": [
      "C:\\Users\\tranl\\AppData\\Roaming\\Python\\Python39\\site-packages\\sklearn\\svm\\_classes.py:32: FutureWarning: The default value of `dual` will change from `True` to `'auto'` in 1.5. Set the value of `dual` explicitly to suppress the warning.\n",
      "  warnings.warn(\n",
      "C:\\Users\\tranl\\AppData\\Roaming\\Python\\Python39\\site-packages\\sklearn\\svm\\_base.py:1250: ConvergenceWarning: Liblinear failed to converge, increase the number of iterations.\n",
      "  warnings.warn(\n"
     ]
    }
   ],
   "source": [
    "model = LinearSVC()\n",
    "model.fit(X_train, y_train)\n",
    "y_pred = model.predict(X_test)"
   ]
  },
  {
   "cell_type": "code",
   "execution_count": 29,
   "metadata": {},
   "outputs": [
    {
     "name": "stdout",
     "output_type": "stream",
     "text": [
      "Accuracy of Linear SVM on Time Series Data: 0.84\n",
      "\n",
      "Confusion Matrix:\n",
      " [[1826    9]\n",
      " [ 359  106]]\n"
     ]
    }
   ],
   "source": [
    "# Evaluate the model\n",
    "accuracy = accuracy_score(y_test, y_pred)\n",
    "conf_matrix = confusion_matrix(y_test, y_pred)\n",
    "\n",
    "print(\"Accuracy of Linear SVM on Time Series Data:\", accuracy)\n",
    "print(\"\\nConfusion Matrix:\\n\", conf_matrix)"
   ]
  },
  {
   "cell_type": "markdown",
   "metadata": {},
   "source": [
    "#### Linear SVM on FFT data"
   ]
  },
  {
   "cell_type": "code",
   "execution_count": 55,
   "metadata": {},
   "outputs": [
    {
     "name": "stderr",
     "output_type": "stream",
     "text": [
      "C:\\Users\\tranl\\AppData\\Roaming\\Python\\Python39\\site-packages\\sklearn\\svm\\_classes.py:32: FutureWarning: The default value of `dual` will change from `True` to `'auto'` in 1.5. Set the value of `dual` explicitly to suppress the warning.\n",
      "  warnings.warn(\n",
      "C:\\Users\\tranl\\AppData\\Roaming\\Python\\Python39\\site-packages\\sklearn\\svm\\_base.py:1250: ConvergenceWarning: Liblinear failed to converge, increase the number of iterations.\n",
      "  warnings.warn(\n"
     ]
    }
   ],
   "source": [
    "model = LinearSVC()\n",
    "model.fit(X_train_fft, y_train)\n",
    "y_pred_fft = model.predict(X_test_fft)"
   ]
  },
  {
   "cell_type": "code",
   "execution_count": 56,
   "metadata": {},
   "outputs": [
    {
     "name": "stdout",
     "output_type": "stream",
     "text": [
      "Accuracy of Linear SVM on FFT Data: 0.6239130434782608\n",
      "\n",
      "Confusion Matrix:\n",
      " [[1216  619]\n",
      " [ 246  219]]\n"
     ]
    }
   ],
   "source": [
    "# Evaluate the model\n",
    "accuracy_fft = accuracy_score(y_test, y_pred_fft)\n",
    "conf_matrix_fft = confusion_matrix(y_test, y_pred_fft)\n",
    "\n",
    "print(\"Accuracy of Linear SVM on FFT Data:\", accuracy_fft)\n",
    "print(\"\\nConfusion Matrix:\\n\", conf_matrix_fft)"
   ]
  },
  {
   "cell_type": "markdown",
   "metadata": {},
   "source": [
    "#### Linear SVM on CWT Data"
   ]
  },
  {
   "cell_type": "code",
   "execution_count": null,
   "metadata": {},
   "outputs": [],
   "source": []
  },
  {
   "cell_type": "code",
   "execution_count": 22,
   "metadata": {},
   "outputs": [],
   "source": [
    "X_train_cwt_flat = []\n",
    "for i in range(len(X_train_cwt)):\n",
    "    X_train_cwt_flat.append(X_train_cwt[i].flatten())\n",
    "\n",
    "X_test_cwt_flat = []\n",
    "for i in range(len(X_test_cwt)):\n",
    "    X_test_cwt_flat.append(X_test_cwt[i].flatten())\n",
    "\n",
    "X_train_cwt_flat = np.array(X_train_cwt_flat)\n",
    "X_test_cwt_flat = np.array(X_test_cwt_flat)\n"
   ]
  },
  {
   "cell_type": "code",
   "execution_count": 34,
   "metadata": {},
   "outputs": [
    {
     "name": "stdout",
     "output_type": "stream",
     "text": [
      "(9200, 30794)\n",
      "(2300, 30794)\n"
     ]
    }
   ],
   "source": [
    "print(X_train_cwt_flat.shape)\n",
    "print(X_test_cwt_flat.shape)"
   ]
  },
  {
   "cell_type": "code",
   "execution_count": 24,
   "metadata": {},
   "outputs": [],
   "source": [
    "X_train_cwt_flat_real = np.abs(X_train_cwt_flat)\n",
    "X_test_cwt_flat_real = np.abs(X_test_cwt_flat)"
   ]
  },
  {
   "cell_type": "code",
   "execution_count": 35,
   "metadata": {},
   "outputs": [
    {
     "name": "stderr",
     "output_type": "stream",
     "text": [
      "C:\\Users\\tranl\\AppData\\Roaming\\Python\\Python39\\site-packages\\sklearn\\svm\\_classes.py:32: FutureWarning: The default value of `dual` will change from `True` to `'auto'` in 1.5. Set the value of `dual` explicitly to suppress the warning.\n",
      "  warnings.warn(\n"
     ]
    }
   ],
   "source": [
    "model = LinearSVC()\n",
    "\n",
    "model.fit(X_train_cwt_flat_real, y_train)\n",
    "y_pred_cwt = model.predict(X_test_cwt_flat_real)"
   ]
  },
  {
   "cell_type": "code",
   "execution_count": null,
   "metadata": {},
   "outputs": [
    {
     "name": "stdout",
     "output_type": "stream",
     "text": [
      "Accuracy of Linear SVM on CWT Data: 0.8891304347826087\n",
      "\n",
      "Confusion Matrix:\n",
      " [[1808   27]\n",
      " [ 228  237]]\n"
     ]
    }
   ],
   "source": [
    "# Evaluate the model\n",
    "accuracy_cwt = accuracy_score(y_test, y_pred_cwt)\n",
    "conf_matrix_cwt = confusion_matrix(y_test, y_pred_cwt)\n",
    "\n",
    "print(\"Accuracy of Linear SVM on CWT Data:\", accuracy_cwt)\n",
    "print(\"\\nConfusion Matrix:\\n\", conf_matrix_cwt)"
   ]
  },
  {
   "cell_type": "markdown",
   "metadata": {},
   "source": [
    "### MLP Classifier \n",
    "#### Using Timeseries data"
   ]
  },
  {
   "cell_type": "code",
   "execution_count": 58,
   "metadata": {},
   "outputs": [],
   "source": [
    "from sklearn.neural_network import MLPClassifier"
   ]
  },
  {
   "cell_type": "code",
   "execution_count": 61,
   "metadata": {},
   "outputs": [
    {
     "data": {
      "text/plain": [
       "0.86"
      ]
     },
     "execution_count": 61,
     "metadata": {},
     "output_type": "execute_result"
    }
   ],
   "source": [
    "clf_time = MLPClassifier(random_state=1, max_iter=300).fit(X_train, y_train)\n",
    "y_pred_time = clf_time.predict(X_test)\n",
    "clf_time.score(X_test, y_test)"
   ]
  },
  {
   "cell_type": "code",
   "execution_count": null,
   "metadata": {},
   "outputs": [
    {
     "name": "stdout",
     "output_type": "stream",
     "text": [
      "Accuracy of MLP Classifier on timeseries Data: 0.86\n",
      "\n",
      "Confusion Matrix:\n",
      " [[1612  223]\n",
      " [  99  366]]\n"
     ]
    }
   ],
   "source": [
    "accuracy_time = accuracy_score(y_test, y_pred_time)\n",
    "conf_matrix_time = confusion_matrix(y_test, y_pred_time)\n",
    "\n",
    "print(\"Accuracy of MLP Classifier on timeseries Data:\", accuracy_time)\n",
    "print(\"\\nConfusion Matrix:\\n\", conf_matrix_time)"
   ]
  },
  {
   "cell_type": "markdown",
   "metadata": {},
   "source": [
    "#### Using FFT Data"
   ]
  },
  {
   "cell_type": "code",
   "execution_count": 59,
   "metadata": {},
   "outputs": [
    {
     "data": {
      "text/plain": [
       "0.8773913043478261"
      ]
     },
     "execution_count": 59,
     "metadata": {},
     "output_type": "execute_result"
    }
   ],
   "source": [
    "clf_fft = MLPClassifier(random_state=1, max_iter=300).fit(X_train_fft, y_train)\n",
    "y_pred_fft = clf_fft.predict(X_test_fft)\n",
    "clf_fft.score(X_test_fft, y_test)"
   ]
  },
  {
   "cell_type": "code",
   "execution_count": 60,
   "metadata": {},
   "outputs": [
    {
     "name": "stdout",
     "output_type": "stream",
     "text": [
      "Accuracy of MLP Classifier on FFT Data: 0.8773913043478261\n",
      "\n",
      "Confusion Matrix:\n",
      " [[1663  172]\n",
      " [ 110  355]]\n"
     ]
    }
   ],
   "source": [
    "accuracy_fft = accuracy_score(y_test, y_pred_fft)\n",
    "conf_matrix_fft = confusion_matrix(y_test, y_pred_fft)\n",
    "\n",
    "print(\"Accuracy of MLP Classifier on FFT Data:\", accuracy_fft)\n",
    "print(\"\\nConfusion Matrix:\\n\", conf_matrix_fft)"
   ]
  },
  {
   "cell_type": "markdown",
   "metadata": {},
   "source": [
    "#### Using CWT Data"
   ]
  },
  {
   "cell_type": "code",
   "execution_count": null,
   "metadata": {},
   "outputs": [
    {
     "data": {
      "text/plain": [
       "0.9721739130434782"
      ]
     },
     "execution_count": 55,
     "metadata": {},
     "output_type": "execute_result"
    }
   ],
   "source": [
    "clf_cwt = MLPClassifier(random_state=1, max_iter=300).fit(X_train_cwt_flat_real, y_train)\n",
    "y_pred_cwt = clf_cwt.predict(X_test_cwt_flat_real)\n",
    "clf_cwt.score(X_test_cwt_flat_real, y_test)"
   ]
  },
  {
   "cell_type": "code",
   "execution_count": null,
   "metadata": {},
   "outputs": [
    {
     "name": "stdout",
     "output_type": "stream",
     "text": [
      "Accuracy of MLP Classifier on CWT Data: 0.9721739130434782\n",
      "\n",
      "Confusion Matrix:\n",
      " [[1802   33]\n",
      " [  31  434]]\n"
     ]
    }
   ],
   "source": [
    "accuracy_cwt = accuracy_score(y_test, y_pred_cwt)\n",
    "conf_matrix_cwt = confusion_matrix(y_test, y_pred_cwt)\n",
    "\n",
    "print(\"Accuracy of MLP Classifier on CWT Data:\", accuracy_cwt)\n",
    "print(\"\\nConfusion Matrix:\\n\", conf_matrix_cwt)"
   ]
  },
  {
   "cell_type": "code",
   "execution_count": null,
   "metadata": {},
   "outputs": [
    {
     "name": "stdout",
     "output_type": "stream",
     "text": [
      "50\n"
     ]
    }
   ],
   "source": [
    "it = range(50, 300, 5)\n",
    "print(len(it))"
   ]
  },
  {
   "cell_type": "code",
   "execution_count": null,
   "metadata": {},
   "outputs": [],
   "source": [
    "#mlp_cwt_acc = np.zeros(len(it))\n",
    "#for i in range(len(it)):\n",
    "#    clf_cwt = MLPClassifier(random_state=1, max_iter=it[i]).fit(X_train_cwt_flat_real, y_train)\n",
    "#    y_pred_cwt = clf_cwt.predict(X_test_cwt_flat_real)\n",
    "#    #clf_cwt.score(X_test_cwt_flat_real, y_test)\n",
    "#    accuracy_cwt = accuracy_score(y_test, y_pred_cwt)\n",
    "#    mlp_cwt_acc[i] = accuracy_cwt\n",
    "\n",
    "#print(mlp_cwt_acc)"
   ]
  },
  {
   "cell_type": "markdown",
   "metadata": {},
   "source": [
    "### k-Nearest Neighbors"
   ]
  },
  {
   "cell_type": "code",
   "execution_count": 20,
   "metadata": {},
   "outputs": [],
   "source": [
    "from sklearn.neighbors import KNeighborsClassifier"
   ]
  },
  {
   "cell_type": "markdown",
   "metadata": {},
   "source": [
    "#### time data"
   ]
  },
  {
   "cell_type": "code",
   "execution_count": 27,
   "metadata": {},
   "outputs": [
    {
     "name": "stdout",
     "output_type": "stream",
     "text": [
      "Accuracy: 0.9326086956521739\n",
      "\n",
      "Confusion Matrix:\n",
      " [[1835    0]\n",
      " [ 155  310]]\n"
     ]
    }
   ],
   "source": [
    "# Create a k-nearest neighbors classifier (KNN)\n",
    "knn_classifier = KNeighborsClassifier(n_neighbors=3)  # You can adjust the number of neighbors (k)\n",
    "\n",
    "# Train the classifier on the training data\n",
    "knn_classifier.fit(X_train, y_train)\n",
    "\n",
    "# Make predictions on the test data\n",
    "y_pred = knn_classifier.predict(X_test)\n",
    "\n",
    "# Evaluate the model\n",
    "accuracy = accuracy_score(y_test, y_pred)\n",
    "conf_matrix = confusion_matrix(y_test, y_pred)\n",
    "\n",
    "print(\"Accuracy:\", accuracy)\n",
    "print(\"\\nConfusion Matrix:\\n\", conf_matrix)"
   ]
  },
  {
   "cell_type": "markdown",
   "metadata": {},
   "source": [
    "#### fft data"
   ]
  },
  {
   "cell_type": "code",
   "execution_count": 33,
   "metadata": {},
   "outputs": [
    {
     "name": "stdout",
     "output_type": "stream",
     "text": [
      "Accuracy: 0.9321739130434783\n",
      "\n",
      "Confusion Matrix:\n",
      " [[1831    4]\n",
      " [ 152  313]]\n"
     ]
    }
   ],
   "source": [
    "# Create a k-nearest neighbors classifier (KNN)\n",
    "knn_classifier_fft = KNeighborsClassifier(n_neighbors=3)  # You can adjust the number of neighbors (k)\n",
    "\n",
    "# Train the classifier on the training data\n",
    "knn_classifier_fft.fit(X_train_fft, y_train)\n",
    "\n",
    "# Make predictions on the test data\n",
    "y_pred_fft = knn_classifier_fft.predict(X_test_fft)\n",
    "\n",
    "# Evaluate the model\n",
    "accuracy = accuracy_score(y_test, y_pred_fft)\n",
    "conf_matrix = confusion_matrix(y_test, y_pred_fft)\n",
    "\n",
    "print(\"Accuracy:\", accuracy)\n",
    "print(\"\\nConfusion Matrix:\\n\", conf_matrix)"
   ]
  },
  {
   "cell_type": "code",
   "execution_count": 52,
   "metadata": {},
   "outputs": [],
   "source": [
    "ks = [1,2,3, 4, 5, 6, 7, 8, 9, 10]\n",
    "time_acc = np.zeros(len(ks))\n",
    "\n",
    "for k in range(len(ks)):\n",
    "    knn_classifier = KNeighborsClassifier(n_neighbors=ks[k])  # You can adjust the number of neighbors (k)\n",
    "\n",
    "    # Train the classifier on the training data\n",
    "    knn_classifier.fit(X_train, y_train)\n",
    "\n",
    "    # Make predictions on the test data\n",
    "    y_pred_time = knn_classifier.predict(X_test)\n",
    "\n",
    "    time_acc[k] = accuracy_score(y_test, y_pred_time)\n",
    "    "
   ]
  },
  {
   "cell_type": "code",
   "execution_count": 66,
   "metadata": {},
   "outputs": [
    {
     "data": {
      "image/png": "[encoded data removed]",
      "text/plain": [
       "<Figure size 640x480 with 1 Axes>"
      ]
     },
     "metadata": {},
     "output_type": "display_data"
    }
   ],
   "source": [
    "plt.plot(ks, time_acc, marker='o', linestyle='-', color='b')\n",
    "plt.title('Accuracy vs. Number of Neighbors (k) for Timeseries Data')\n",
    "plt.xlabel('Number of Neighbors (k)')\n",
    "plt.ylabel('Accuracy')\n",
    "plt.xticks(ks)\n",
    "plt.grid(True)\n",
    "#plt.show()\n",
    "plt.savefig('knn_time.png')"
   ]
  },
  {
   "cell_type": "code",
   "execution_count": 41,
   "metadata": {},
   "outputs": [
    {
     "name": "stdout",
     "output_type": "stream",
     "text": [
      "[0.94869565 0.9326087  0.92478261 0.92043478 0.91478261]\n"
     ]
    }
   ],
   "source": [
    "print(time_acc)"
   ]
  },
  {
   "cell_type": "code",
   "execution_count": 47,
   "metadata": {},
   "outputs": [],
   "source": [
    "ks = [1,2,3, 4, 5, 6, 7, 8, 9, 10]\n",
    "fft_acc = np.zeros(len(ks))\n",
    "\n",
    "for k in range(len(ks)):\n",
    "    knn_classifier_fft = KNeighborsClassifier(n_neighbors=ks[k])  # You can adjust the number of neighbors (k)\n",
    "\n",
    "    # Train the classifier on the training data\n",
    "    knn_classifier_fft.fit(X_train_fft, y_train)\n",
    "\n",
    "    # Make predictions on the test data\n",
    "    y_pred_fft = knn_classifier_fft.predict(X_test_fft)\n",
    "\n",
    "    fft_acc[k] = accuracy_score(y_test, y_pred_fft)\n",
    "    "
   ]
  },
  {
   "cell_type": "code",
   "execution_count": 65,
   "metadata": {},
   "outputs": [
    {
     "data": {
      "image/png": "[encoded data removed]",
      "text/plain": [
       "<Figure size 640x480 with 1 Axes>"
      ]
     },
     "metadata": {},
     "output_type": "display_data"
    }
   ],
   "source": [
    "plt.plot(ks, fft_acc, marker='o', linestyle='-', color='b')\n",
    "plt.title('Accuracy vs. Number of Neighbors (k) for FFT Data')\n",
    "plt.xlabel('Number of Neighbors (k)')\n",
    "plt.ylabel('Accuracy')\n",
    "plt.xticks(ks)\n",
    "plt.grid(True)\n",
    "#plt.show()\n",
    "plt.savefig('knn_fft.png')"
   ]
  },
  {
   "cell_type": "code",
   "execution_count": 25,
   "metadata": {},
   "outputs": [
    {
     "name": "stderr",
     "output_type": "stream",
     "text": [
      "C:\\Users\\tranl\\AppData\\Roaming\\Python\\Python39\\site-packages\\joblib\\externals\\loky\\backend\\context.py:136: UserWarning: Could not find the number of physical cores for the following reason:\n",
      "[WinError 2] The system cannot find the file specified\n",
      "Returning the number of logical cores instead. You can silence this warning by setting LOKY_MAX_CPU_COUNT to the number of cores you want to use.\n",
      "  warnings.warn(\n",
      "  File \"C:\\Users\\tranl\\AppData\\Roaming\\Python\\Python39\\site-packages\\joblib\\externals\\loky\\backend\\context.py\", line 257, in _count_physical_cores\n",
      "    cpu_info = subprocess.run(\n",
      "  File \"c:\\Users\\tranl\\anaconda3\\envs\\ee269_env\\lib\\subprocess.py\", line 505, in run\n",
      "    with Popen(*popenargs, **kwargs) as process:\n",
      "  File \"c:\\Users\\tranl\\anaconda3\\envs\\ee269_env\\lib\\subprocess.py\", line 951, in __init__\n",
      "    self._execute_child(args, executable, preexec_fn, close_fds,\n",
      "  File \"c:\\Users\\tranl\\anaconda3\\envs\\ee269_env\\lib\\subprocess.py\", line 1436, in _execute_child\n",
      "    hp, ht, pid, tid = _winapi.CreateProcess(executable, args,\n"
     ]
    },
    {
     "ename": "NameError",
     "evalue": "name 'accuracy_score' is not defined",
     "output_type": "error",
     "traceback": [
      "\u001b[1;31m---------------------------------------------------------------------------\u001b[0m",
      "\u001b[1;31mNameError\u001b[0m                                 Traceback (most recent call last)",
      "\u001b[1;32mc:\\Users\\tranl\\Documents\\Stanford\\Fall 2023\\EE 269\\EE269_Final_Project\\ee269_final_project_coding.ipynb Cell 66\u001b[0m line \u001b[0;36m1\n\u001b[0;32m      <a href='vscode-notebook-cell:/c%3A/Users/tranl/Documents/Stanford/Fall%202023/EE%20269/EE269_Final_Project/ee269_final_project_coding.ipynb#Y120sZmlsZQ%3D%3D?line=7'>8</a>\u001b[0m y_pred_cwt \u001b[39m=\u001b[39m knn_classifier_cwt\u001b[39m.\u001b[39mpredict(X_test_cwt_flat_real)\n\u001b[0;32m     <a href='vscode-notebook-cell:/c%3A/Users/tranl/Documents/Stanford/Fall%202023/EE%20269/EE269_Final_Project/ee269_final_project_coding.ipynb#Y120sZmlsZQ%3D%3D?line=9'>10</a>\u001b[0m \u001b[39m# Evaluate the model\u001b[39;00m\n\u001b[1;32m---> <a href='vscode-notebook-cell:/c%3A/Users/tranl/Documents/Stanford/Fall%202023/EE%20269/EE269_Final_Project/ee269_final_project_coding.ipynb#Y120sZmlsZQ%3D%3D?line=10'>11</a>\u001b[0m accuracy \u001b[39m=\u001b[39m accuracy_score(y_test, y_pred_fft)\n\u001b[0;32m     <a href='vscode-notebook-cell:/c%3A/Users/tranl/Documents/Stanford/Fall%202023/EE%20269/EE269_Final_Project/ee269_final_project_coding.ipynb#Y120sZmlsZQ%3D%3D?line=11'>12</a>\u001b[0m conf_matrix \u001b[39m=\u001b[39m confusion_matrix(y_test, y_pred_fft)\n\u001b[0;32m     <a href='vscode-notebook-cell:/c%3A/Users/tranl/Documents/Stanford/Fall%202023/EE%20269/EE269_Final_Project/ee269_final_project_coding.ipynb#Y120sZmlsZQ%3D%3D?line=13'>14</a>\u001b[0m \u001b[39mprint\u001b[39m(\u001b[39m\"\u001b[39m\u001b[39mAccuracy:\u001b[39m\u001b[39m\"\u001b[39m, accuracy)\n",
      "\u001b[1;31mNameError\u001b[0m: name 'accuracy_score' is not defined"
     ]
    }
   ],
   "source": [
    "# Create a k-nearest neighbors classifier (KNN)\n",
    "knn_classifier_cwt = KNeighborsClassifier(n_neighbors=3)  # You can adjust the number of neighbors (k)\n",
    "\n",
    "# Train the classifier on the training data\n",
    "knn_classifier_cwt.fit(X_train_cwt_flat_real, y_train)\n",
    "\n",
    "# Make predictions on the test data\n",
    "y_pred_cwt = knn_classifier_cwt.predict(X_test_cwt_flat_real)\n"
   ]
  },
  {
   "cell_type": "code",
   "execution_count": 28,
   "metadata": {},
   "outputs": [
    {
     "name": "stdout",
     "output_type": "stream",
     "text": [
      "Accuracy: 0.9682608695652174\n",
      "\n",
      "Confusion Matrix:\n",
      " [[1821   14]\n",
      " [  59  406]]\n"
     ]
    }
   ],
   "source": [
    "\n",
    "# Evaluate the model\n",
    "accuracy = accuracy_score(y_test, y_pred_cwt)\n",
    "conf_matrix = confusion_matrix(y_test, y_pred_cwt)\n",
    "\n",
    "print(\"Accuracy:\", accuracy)\n",
    "print(\"\\nConfusion Matrix:\\n\", conf_matrix)"
   ]
  },
  {
   "cell_type": "code",
   "execution_count": 43,
   "metadata": {},
   "outputs": [],
   "source": [
    "ks = [1,2,3, 4, 5, 6, 7, 8, 9, 10]\n",
    "cwt_acc = np.zeros(len(ks))\n",
    "\n",
    "for k in range(len(ks)):\n",
    "    knn_classifier_cwt = KNeighborsClassifier(n_neighbors=ks[k])  # You can adjust the number of neighbors (k)\n",
    "\n",
    "    # Train the classifier on the training data\n",
    "    knn_classifier_cwt.fit(X_train_cwt_flat_real, y_train)\n",
    "\n",
    "    # Make predictions on the test data\n",
    "    y_pred_cwt = knn_classifier_cwt.predict(X_test_cwt_flat_real)\n",
    "\n",
    "    cwt_acc[k] = accuracy_score(y_test, y_pred_cwt)\n",
    "    "
   ]
  },
  {
   "cell_type": "code",
   "execution_count": 44,
   "metadata": {},
   "outputs": [
    {
     "name": "stdout",
     "output_type": "stream",
     "text": [
      "[0.97173913 0.96086957 0.96826087 0.96434783 0.96782609 0.9626087\n",
      " 0.96434783 0.96130435 0.96478261 0.9626087 ]\n"
     ]
    }
   ],
   "source": [
    "print(cwt_acc)"
   ]
  },
  {
   "cell_type": "code",
   "execution_count": 64,
   "metadata": {},
   "outputs": [
    {
     "data": {
      "image/png": "[encoded data removed]",
      "text/plain": [
       "<Figure size 640x480 with 1 Axes>"
      ]
     },
     "metadata": {},
     "output_type": "display_data"
    }
   ],
   "source": [
    "plt.plot(ks, cwt_acc, marker='o', linestyle='-', color='b')\n",
    "plt.title('Accuracy vs. Number of Neighbors (k) for CWT Data')\n",
    "plt.xlabel('Number of Neighbors (k)')\n",
    "plt.ylabel('Accuracy')\n",
    "plt.xticks(ks)\n",
    "plt.grid(True)\n",
    "#plt.show()\n",
    "plt.savefig('knn_cwt.png')"
   ]
  },
  {
   "cell_type": "code",
   "execution_count": 75,
   "metadata": {},
   "outputs": [
    {
     "name": "stdout",
     "output_type": "stream",
     "text": [
      "[0.94869565 0.92130435 0.9326087  0.91869565 0.92478261 0.9173913\n",
      " 0.92043478 0.91608696 0.91913043 0.91478261]\n",
      "[0.93782609 0.92173913 0.93217391 0.91869565 0.9273913  0.92173913\n",
      " 0.92565217 0.92086957 0.9226087  0.91826087]\n",
      "[0.97173913 0.96086957 0.96826087 0.96434783 0.96782609 0.9626087\n",
      " 0.96434783 0.96130435 0.96478261 0.9626087 ]\n"
     ]
    },
    {
     "data": {
      "image/png": "[encoded data removed]",
      "text/plain": [
       "<Figure size 800x600 with 1 Axes>"
      ]
     },
     "metadata": {},
     "output_type": "display_data"
    }
   ],
   "source": [
    "plt.figure(figsize=(8, 6))\n",
    "\n",
    "plt.plot(ks, time_acc, label='Timeseries Data', color='blue', marker='o', linestyle='-', linewidth=2)\n",
    "plt.plot(ks, fft_acc, label='FFT Data', color='green', marker='o', linestyle='-', linewidth=2)\n",
    "plt.plot(ks, cwt_acc, label='CWT Data', color='red', marker='o', linestyle='-', linewidth=2)\n",
    "plt.title('Accuracy vs. Number of Neighbors (k) on EEG Data')\n",
    "plt.xlabel('Number of Neighbors (k)')\n",
    "plt.ylabel('Accuracy')\n",
    "plt.xticks(ks)\n",
    "\n",
    "# Add legend\n",
    "plt.legend()\n",
    "\n",
    "# Show the plot\n",
    "plt.grid(True)\n",
    "#plt.show()\n",
    "plt.savefig('knn_all.png')\n",
    "\n",
    "print(time_acc)\n",
    "print(fft_acc)\n",
    "print(cwt_acc)"
   ]
  },
  {
   "cell_type": "markdown",
   "metadata": {},
   "source": [
    "### Polynomial SVM"
   ]
  },
  {
   "cell_type": "code",
   "execution_count": 67,
   "metadata": {},
   "outputs": [],
   "source": [
    "from sklearn.svm import SVC"
   ]
  },
  {
   "cell_type": "code",
   "execution_count": 76,
   "metadata": {},
   "outputs": [
    {
     "name": "stdout",
     "output_type": "stream",
     "text": [
      "[0.96695652 0.8726087  0.94782609 0.86434783]\n"
     ]
    }
   ],
   "source": [
    "degrees = [2, 3, 4, 5]\n",
    "time_acc_svm = np.zeros(4)\n",
    "\n",
    "for d in range(len(degrees)):\n",
    "    poly_svm_model = SVC(kernel='poly', degree=degrees[d], C=1.0)\n",
    "\n",
    "    # Fit the model on the training data\n",
    "    poly_svm_model.fit(X_train, y_train)\n",
    "\n",
    "    # Make predictions on the test data\n",
    "    y_pred = poly_svm_model.predict(X_test)\n",
    "\n",
    "    # Evaluate the model\n",
    "    accuracy = accuracy_score(y_test, y_pred)\n",
    "    time_acc_svm[d] = accuracy\n",
    "\n",
    "#conf_matrix = confusion_matrix(y_test, y_pred)\n",
    "\n",
    "print(time_acc_svm)"
   ]
  },
  {
   "cell_type": "code",
   "execution_count": 69,
   "metadata": {},
   "outputs": [
    {
     "name": "stdout",
     "output_type": "stream",
     "text": [
      "Accuracy of Polynomial SVM with Time Data:  0.8726086956521739\n",
      "Confusion Matrix of Polynomial SVM with Time Data:  [[1832    3]\n",
      " [ 290  175]]\n"
     ]
    }
   ],
   "source": [
    "print('Accuracy of Polynomial SVM with Time Data: ', accuracy)\n",
    "print('Confusion Matrix of Polynomial SVM with Time Data: ', conf_matrix)"
   ]
  },
  {
   "cell_type": "code",
   "execution_count": 70,
   "metadata": {},
   "outputs": [],
   "source": [
    "poly_svm_model = SVC(kernel='poly', degree=3, C=1.0)\n",
    "\n",
    "# Fit the model on the training data\n",
    "poly_svm_model.fit(X_train_fft, y_train)\n",
    "\n",
    "# Make predictions on the test data\n",
    "y_pred_fft = poly_svm_model.predict(X_test_fft)\n",
    "\n",
    "# Evaluate the model\n",
    "accuracy_fft = accuracy_score(y_test, y_pred_fft)\n",
    "conf_matrix_fft = confusion_matrix(y_test, y_pred_fft)"
   ]
  },
  {
   "cell_type": "code",
   "execution_count": 77,
   "metadata": {},
   "outputs": [
    {
     "name": "stdout",
     "output_type": "stream",
     "text": [
      "[0.9573913  0.86782609 0.94608696 0.86782609]\n"
     ]
    }
   ],
   "source": [
    "degrees = [2, 3, 4, 5]\n",
    "freq_acc_svm = np.zeros(4)\n",
    "\n",
    "for d in range(len(degrees)):\n",
    "    poly_svm_model = SVC(kernel='poly', degree=degrees[d], C=1.0)\n",
    "\n",
    "    # Fit the model on the training data\n",
    "    poly_svm_model.fit(X_train_fft, y_train)\n",
    "\n",
    "    # Make predictions on the test data\n",
    "    y_pred = poly_svm_model.predict(X_test_fft)\n",
    "\n",
    "    # Evaluate the model\n",
    "    accuracy = accuracy_score(y_test, y_pred)\n",
    "    freq_acc_svm[d] = accuracy\n",
    "\n",
    "#conf_matrix = confusion_matrix(y_test, y_pred)\n",
    "\n",
    "print(freq_acc_svm)"
   ]
  },
  {
   "cell_type": "code",
   "execution_count": 71,
   "metadata": {},
   "outputs": [
    {
     "name": "stdout",
     "output_type": "stream",
     "text": [
      "Accuracy of Polynomial SVM with FFT Data:  0.8678260869565217\n",
      "Confusion Matrix of Polynomial SVM with FFT Data:  [[1834    1]\n",
      " [ 303  162]]\n"
     ]
    }
   ],
   "source": [
    "print('Accuracy of Polynomial SVM with FFT Data: ', accuracy_fft)\n",
    "print('Confusion Matrix of Polynomial SVM with FFT Data: ', conf_matrix_fft)"
   ]
  },
  {
   "cell_type": "code",
   "execution_count": 72,
   "metadata": {},
   "outputs": [],
   "source": [
    "poly_svm_model = SVC(kernel='poly', degree=3, C=1.0)\n",
    "\n",
    "# Fit the model on the training data\n",
    "poly_svm_model.fit(X_train_cwt_flat_real, y_train)\n",
    "\n",
    "# Make predictions on the test data\n",
    "y_pred_cwt = poly_svm_model.predict(X_test_cwt_flat_real)\n",
    "\n",
    "# Evaluate the model\n",
    "accuracy_cwt = accuracy_score(y_test, y_pred_cwt)\n",
    "conf_matrix_cwt = confusion_matrix(y_test, y_pred_cwt)"
   ]
  },
  {
   "cell_type": "code",
   "execution_count": 78,
   "metadata": {},
   "outputs": [
    {
     "name": "stdout",
     "output_type": "stream",
     "text": [
      "[0.97347826 0.9726087  0.97130435 0.97086957]\n"
     ]
    }
   ],
   "source": [
    "degrees = [2, 3, 4, 5]\n",
    "cwt_acc_svm = np.zeros(4)\n",
    "\n",
    "for d in range(len(degrees)):\n",
    "    poly_svm_model = SVC(kernel='poly', degree=degrees[d], C=1.0)\n",
    "\n",
    "    # Fit the model on the training data\n",
    "    poly_svm_model.fit(X_train_cwt_flat_real, y_train)\n",
    "\n",
    "    # Make predictions on the test data\n",
    "    y_pred = poly_svm_model.predict(X_test_cwt_flat_real)\n",
    "\n",
    "    # Evaluate the model\n",
    "    accuracy = accuracy_score(y_test, y_pred)\n",
    "    cwt_acc_svm[d] = accuracy\n",
    "\n",
    "#conf_matrix = confusion_matrix(y_test, y_pred)\n",
    "\n",
    "print(cwt_acc_svm)"
   ]
  },
  {
   "cell_type": "code",
   "execution_count": 74,
   "metadata": {},
   "outputs": [
    {
     "name": "stdout",
     "output_type": "stream",
     "text": [
      "Accuracy of Polynomial SVM with CWT Data:  0.9726086956521739\n",
      "Confusion Matrix of Polynomial SVM with CWT Data:  [[1826    9]\n",
      " [  54  411]]\n"
     ]
    }
   ],
   "source": [
    "print('Accuracy of Polynomial SVM with CWT Data: ', accuracy_cwt)\n",
    "print('Confusion Matrix of Polynomial SVM with CWT Data: ', conf_matrix_cwt)"
   ]
  },
  {
   "cell_type": "markdown",
   "metadata": {},
   "source": [
    "### Feature Extraction\n",
    "#### Time series data"
   ]
  },
  {
   "cell_type": "code",
   "execution_count": 1,
   "metadata": {},
   "outputs": [],
   "source": [
    "from sklearn.preprocessing import PolynomialFeatures"
   ]
  },
  {
   "cell_type": "code",
   "execution_count": 29,
   "metadata": {},
   "outputs": [],
   "source": [
    "# Example feature expansion using PolynomialFeatures\n",
    "degree = 2  # Set the degree of polynomial features\n",
    "poly = PolynomialFeatures(degree=degree, include_bias=False)\n",
    "expanded_features = poly.fit_transform(timeseries_data)\n",
    "\n",
    "X_train_feat, X_test_feat, y_train_feat, y_test_feat = train_test_split(expanded_features, y, test_size=0.2, random_state=42)"
   ]
  },
  {
   "cell_type": "markdown",
   "metadata": {},
   "source": [
    "#### fft data\n"
   ]
  },
  {
   "cell_type": "code",
   "execution_count": 36,
   "metadata": {},
   "outputs": [
    {
     "name": "stderr",
     "output_type": "stream",
     "text": [
      "C:\\Users\\tranl\\AppData\\Local\\Temp\\ipykernel_16804\\3944779505.py:8: ComplexWarning: Casting complex values to real discards the imaginary part\n",
      "  data_fft[i,:] = np.fft.fftshift(np.fft.fft(timeseries_data[i,:]))\n"
     ]
    }
   ],
   "source": [
    "fs = 173.559\n",
    "N = len(X_train[0,:])\n",
    "time = np.linspace(0,N-1, N) / fs\n",
    "freq = fs * np.linspace(-N//2, N//2, N, dtype = float) / N\n",
    "\n",
    "data_fft = np.zeros(timeseries_data.shape)\n",
    "for i in range(len(timeseries_data[:,0])):\n",
    "    data_fft[i,:] = np.fft.fftshift(np.fft.fft(timeseries_data[i,:]))"
   ]
  },
  {
   "cell_type": "code",
   "execution_count": 37,
   "metadata": {},
   "outputs": [],
   "source": [
    "# Example feature expansion using PolynomialFeatures\n",
    "degree = 2  # Set the degree of polynomial features\n",
    "poly = PolynomialFeatures(degree=degree, include_bias=False)\n",
    "expanded_features_fft = poly.fit_transform(data_fft)\n",
    "\n",
    "X_train_feat_fft, X_test_feat_fft, y_train_feat_fft, y_test_feat_fft = train_test_split(expanded_features_fft, y, test_size=0.2, random_state=42)"
   ]
  },
  {
   "cell_type": "markdown",
   "metadata": {},
   "source": [
    "#### cwt data "
   ]
  },
  {
   "cell_type": "code",
   "execution_count": 41,
   "metadata": {},
   "outputs": [
    {
     "name": "stderr",
     "output_type": "stream",
     "text": [
      "c:\\Users\\tranl\\anaconda3\\envs\\ee269_env\\lib\\site-packages\\pywt\\_cwt.py:117: FutureWarning: Wavelets from the family cmor, without parameters specified in the name are deprecated. The name should takethe form cmorB-C where B and C are floats representing the bandwidth frequency and center frequency, respectively (example: cmor1.5-1.0).\n",
      "  wavelet = DiscreteContinuousWavelet(wavelet)\n"
     ]
    }
   ],
   "source": [
    "width = fs\n",
    "widths = np.arange(1, width)\n",
    "wavelet = 'cmor'\n",
    "\n",
    "\n",
    "cwt_data = []\n",
    "for i in range(len(timeseries_data[:,1])):\n",
    "    cwtmat, freq_cwt = pywt.cwt(timeseries_data[i],  widths, wavelet, sampling_period = 1/fs)\n",
    "    cwt_data.append(cwtmat.flatten())\n",
    "    \n",
    "duration = N/fs\n",
    "time = np.arange(N)/fs\n"
   ]
  },
  {
   "cell_type": "code",
   "execution_count": 47,
   "metadata": {},
   "outputs": [],
   "source": [
    "from scipy.signal import cwt, find_peaks\n",
    "from scipy.stats import skew, kurtosis"
   ]
  },
  {
   "cell_type": "code",
   "execution_count": 53,
   "metadata": {},
   "outputs": [
    {
     "ename": "MemoryError",
     "evalue": "Unable to allocate 2.64 GiB for an array with shape (11500, 30794) and data type float64",
     "output_type": "error",
     "traceback": [
      "\u001b[1;31m---------------------------------------------------------------------------\u001b[0m",
      "\u001b[1;31mMemoryError\u001b[0m                               Traceback (most recent call last)",
      "\u001b[1;32mc:\\Users\\tranl\\Documents\\Stanford\\Fall 2023\\EE 269\\EE269_Final_Project\\ee269_final_project_coding.ipynb Cell 66\u001b[0m line \u001b[0;36m2\n\u001b[0;32m      <a href='vscode-notebook-cell:/c%3A/Users/tranl/Documents/Stanford/Fall%202023/EE%20269/EE269_Final_Project/ee269_final_project_coding.ipynb#Y132sZmlsZQ%3D%3D?line=0'>1</a>\u001b[0m \u001b[39m# Feature extraction by summarizing the CWT data\u001b[39;00m\n\u001b[1;32m----> <a href='vscode-notebook-cell:/c%3A/Users/tranl/Documents/Stanford/Fall%202023/EE%20269/EE269_Final_Project/ee269_final_project_coding.ipynb#Y132sZmlsZQ%3D%3D?line=1'>2</a>\u001b[0m summarized_features \u001b[39m=\u001b[39m np\u001b[39m.\u001b[39msum(np\u001b[39m.\u001b[39;49mabs(cwt_data), axis\u001b[39m=\u001b[39m\u001b[39m0\u001b[39m)\n\u001b[0;32m      <a href='vscode-notebook-cell:/c%3A/Users/tranl/Documents/Stanford/Fall%202023/EE%20269/EE269_Final_Project/ee269_final_project_coding.ipynb#Y132sZmlsZQ%3D%3D?line=3'>4</a>\u001b[0m \u001b[39m# Reshape for scikit-learn compatibility\u001b[39;00m\n\u001b[0;32m      <a href='vscode-notebook-cell:/c%3A/Users/tranl/Documents/Stanford/Fall%202023/EE%20269/EE269_Final_Project/ee269_final_project_coding.ipynb#Y132sZmlsZQ%3D%3D?line=4'>5</a>\u001b[0m features_cwt \u001b[39m=\u001b[39m summarized_features\u001b[39m.\u001b[39mreshape(\u001b[39m-\u001b[39m\u001b[39m1\u001b[39m, \u001b[39m1\u001b[39m)\n",
      "\u001b[1;31mMemoryError\u001b[0m: Unable to allocate 2.64 GiB for an array with shape (11500, 30794) and data type float64"
     ]
    }
   ],
   "source": [
    "# Feature extraction by summarizing the CWT data\n",
    "summarized_features = np.sum(np.abs(cwt_data), axis=0)\n",
    "\n",
    "# Reshape for scikit-learn compatibility\n",
    "features_cwt = summarized_features.reshape(-1, 1)\n",
    "\n",
    "X_train_cwt, X_test_cwt, y_train_cwt, y_test_cwt = train_test_split(features_cwt, np.random.rand(len(summarized_features)), test_size=0.2, random_state=42)\n"
   ]
  },
  {
   "cell_type": "code",
   "execution_count": 49,
   "metadata": {},
   "outputs": [
    {
     "ename": "MemoryError",
     "evalue": "Unable to allocate 2.64 GiB for an array with shape (30794, 11500) and data type float64",
     "output_type": "error",
     "traceback": [
      "\u001b[1;31m---------------------------------------------------------------------------\u001b[0m",
      "\u001b[1;31mMemoryError\u001b[0m                               Traceback (most recent call last)",
      "\u001b[1;32mc:\\Users\\tranl\\Documents\\Stanford\\Fall 2023\\EE 269\\EE269_Final_Project\\ee269_final_project_coding.ipynb Cell 66\u001b[0m line \u001b[0;36m3\n\u001b[0;32m      <a href='vscode-notebook-cell:/c%3A/Users/tranl/Documents/Stanford/Fall%202023/EE%20269/EE269_Final_Project/ee269_final_project_coding.ipynb#Y130sZmlsZQ%3D%3D?line=0'>1</a>\u001b[0m mean_amplitude \u001b[39m=\u001b[39m np\u001b[39m.\u001b[39mmean(np\u001b[39m.\u001b[39mabs(cwt_data), axis\u001b[39m=\u001b[39m\u001b[39m0\u001b[39m)\n\u001b[0;32m      <a href='vscode-notebook-cell:/c%3A/Users/tranl/Documents/Stanford/Fall%202023/EE%20269/EE269_Final_Project/ee269_final_project_coding.ipynb#Y130sZmlsZQ%3D%3D?line=1'>2</a>\u001b[0m max_amplitude \u001b[39m=\u001b[39m np\u001b[39m.\u001b[39mmax(np\u001b[39m.\u001b[39mabs(cwt_data), axis\u001b[39m=\u001b[39m\u001b[39m0\u001b[39m)\n\u001b[1;32m----> <a href='vscode-notebook-cell:/c%3A/Users/tranl/Documents/Stanford/Fall%202023/EE%20269/EE269_Final_Project/ee269_final_project_coding.ipynb#Y130sZmlsZQ%3D%3D?line=2'>3</a>\u001b[0m skewness \u001b[39m=\u001b[39m skew(np\u001b[39m.\u001b[39;49mabs(cwt_data), axis\u001b[39m=\u001b[39;49m\u001b[39m0\u001b[39;49m)\n\u001b[0;32m      <a href='vscode-notebook-cell:/c%3A/Users/tranl/Documents/Stanford/Fall%202023/EE%20269/EE269_Final_Project/ee269_final_project_coding.ipynb#Y130sZmlsZQ%3D%3D?line=3'>4</a>\u001b[0m kurt \u001b[39m=\u001b[39m kurtosis(np\u001b[39m.\u001b[39mabs(cwt_data), axis\u001b[39m=\u001b[39m\u001b[39m0\u001b[39m)\n\u001b[0;32m      <a href='vscode-notebook-cell:/c%3A/Users/tranl/Documents/Stanford/Fall%202023/EE%20269/EE269_Final_Project/ee269_final_project_coding.ipynb#Y130sZmlsZQ%3D%3D?line=5'>6</a>\u001b[0m features_cwt \u001b[39m=\u001b[39m np\u001b[39m.\u001b[39mvstack((mean_amplitude, max_amplitude, skewness, kurt))\u001b[39m.\u001b[39mT\n",
      "File \u001b[1;32mc:\\Users\\tranl\\anaconda3\\envs\\ee269_env\\lib\\site-packages\\scipy\\stats\\_axis_nan_policy.py:542\u001b[0m, in \u001b[0;36m_axis_nan_policy_factory.<locals>.axis_nan_policy_decorator.<locals>.axis_nan_policy_wrapper\u001b[1;34m(***failed resolving arguments***)\u001b[0m\n\u001b[0;32m    540\u001b[0m lengths \u001b[39m=\u001b[39m np\u001b[39m.\u001b[39marray([sample\u001b[39m.\u001b[39mshape[axis] \u001b[39mfor\u001b[39;00m sample \u001b[39min\u001b[39;00m samples])\n\u001b[0;32m    541\u001b[0m split_indices \u001b[39m=\u001b[39m np\u001b[39m.\u001b[39mcumsum(lengths)\n\u001b[1;32m--> 542\u001b[0m x \u001b[39m=\u001b[39m _broadcast_concatenate(samples, axis)\n\u001b[0;32m    544\u001b[0m \u001b[39m# Addresses nan_policy == \"raise\"\u001b[39;00m\n\u001b[0;32m    545\u001b[0m \u001b[39mif\u001b[39;00m nan_policy \u001b[39m!=\u001b[39m \u001b[39m'\u001b[39m\u001b[39mpropagate\u001b[39m\u001b[39m'\u001b[39m \u001b[39mor\u001b[39;00m override[\u001b[39m'\u001b[39m\u001b[39mnan_propagation\u001b[39m\u001b[39m'\u001b[39m]:\n",
      "File \u001b[1;32mc:\\Users\\tranl\\anaconda3\\envs\\ee269_env\\lib\\site-packages\\scipy\\stats\\_axis_nan_policy.py:133\u001b[0m, in \u001b[0;36m_broadcast_concatenate\u001b[1;34m(arrays, axis)\u001b[0m\n\u001b[0;32m    131\u001b[0m \u001b[39m\u001b[39m\u001b[39m\"\"\"Concatenate arrays along an axis with broadcasting.\"\"\"\u001b[39;00m\n\u001b[0;32m    132\u001b[0m arrays \u001b[39m=\u001b[39m _broadcast_arrays(arrays, axis)\n\u001b[1;32m--> 133\u001b[0m res \u001b[39m=\u001b[39m np\u001b[39m.\u001b[39;49mconcatenate(arrays, axis\u001b[39m=\u001b[39;49maxis)\n\u001b[0;32m    134\u001b[0m \u001b[39mreturn\u001b[39;00m res\n",
      "File \u001b[1;32m<__array_function__ internals>:200\u001b[0m, in \u001b[0;36mconcatenate\u001b[1;34m(*args, **kwargs)\u001b[0m\n",
      "\u001b[1;31mMemoryError\u001b[0m: Unable to allocate 2.64 GiB for an array with shape (30794, 11500) and data type float64"
     ]
    }
   ],
   "source": [
    "\n",
    "#mean_amplitude = np.mean(np.abs(cwt_data), axis=0)\n",
    "#max_amplitude = np.max(np.abs(cwt_data), axis=0)\n",
    "#skewness = skew(np.abs(cwt_data), axis=0)\n",
    "#kurt = kurtosis(np.abs(cwt_data), axis=0)\n",
    "\n",
    "#features_cwt = np.vstack((mean_amplitude, max_amplitude, skewness, kurt)).T\n",
    "\n",
    "# Split the data into training and testing sets\n",
    "#X_train_cwt, X_test_cwt, y_train_cwt, y_test_cwt = train_test_split(features_cwt, np.random.rand(features_cwt.shape[1]), test_size=0.2, random_state=42)\n"
   ]
  },
  {
   "cell_type": "code",
   "execution_count": 43,
   "metadata": {},
   "outputs": [
    {
     "ename": "MemoryError",
     "evalue": "Unable to allocate 39.7 TiB for an array with shape (11500, 474181409) and data type float64",
     "output_type": "error",
     "traceback": [
      "\u001b[1;31m---------------------------------------------------------------------------\u001b[0m",
      "\u001b[1;31mMemoryError\u001b[0m                               Traceback (most recent call last)",
      "\u001b[1;32mc:\\Users\\tranl\\Documents\\Stanford\\Fall 2023\\EE 269\\EE269_Final_Project\\ee269_final_project_coding.ipynb Cell 65\u001b[0m line \u001b[0;36m5\n\u001b[0;32m      <a href='vscode-notebook-cell:/c%3A/Users/tranl/Documents/Stanford/Fall%202023/EE%20269/EE269_Final_Project/ee269_final_project_coding.ipynb#Y125sZmlsZQ%3D%3D?line=2'>3</a>\u001b[0m poly \u001b[39m=\u001b[39m PolynomialFeatures(degree\u001b[39m=\u001b[39mdegree, include_bias\u001b[39m=\u001b[39m\u001b[39mFalse\u001b[39;00m)\n\u001b[0;32m      <a href='vscode-notebook-cell:/c%3A/Users/tranl/Documents/Stanford/Fall%202023/EE%20269/EE269_Final_Project/ee269_final_project_coding.ipynb#Y125sZmlsZQ%3D%3D?line=3'>4</a>\u001b[0m cwt_data \u001b[39m=\u001b[39m np\u001b[39m.\u001b[39mabs(cwt_data)\n\u001b[1;32m----> <a href='vscode-notebook-cell:/c%3A/Users/tranl/Documents/Stanford/Fall%202023/EE%20269/EE269_Final_Project/ee269_final_project_coding.ipynb#Y125sZmlsZQ%3D%3D?line=4'>5</a>\u001b[0m expanded_features_cwt \u001b[39m=\u001b[39m poly\u001b[39m.\u001b[39;49mfit_transform(cwt_data)\n\u001b[0;32m      <a href='vscode-notebook-cell:/c%3A/Users/tranl/Documents/Stanford/Fall%202023/EE%20269/EE269_Final_Project/ee269_final_project_coding.ipynb#Y125sZmlsZQ%3D%3D?line=6'>7</a>\u001b[0m X_train_feat_fft, X_test_feat_fft, y_train_feat_fft, y_test_feat_fft \u001b[39m=\u001b[39m train_test_split(cwt_data, y, test_size\u001b[39m=\u001b[39m\u001b[39m0.2\u001b[39m, random_state\u001b[39m=\u001b[39m\u001b[39m42\u001b[39m)\n",
      "File \u001b[1;32m~\\AppData\\Roaming\\Python\\Python39\\site-packages\\sklearn\\utils\\_set_output.py:157\u001b[0m, in \u001b[0;36m_wrap_method_output.<locals>.wrapped\u001b[1;34m(self, X, *args, **kwargs)\u001b[0m\n\u001b[0;32m    155\u001b[0m \u001b[39m@wraps\u001b[39m(f)\n\u001b[0;32m    156\u001b[0m \u001b[39mdef\u001b[39;00m \u001b[39mwrapped\u001b[39m(\u001b[39mself\u001b[39m, X, \u001b[39m*\u001b[39margs, \u001b[39m*\u001b[39m\u001b[39m*\u001b[39mkwargs):\n\u001b[1;32m--> 157\u001b[0m     data_to_wrap \u001b[39m=\u001b[39m f(\u001b[39mself\u001b[39m, X, \u001b[39m*\u001b[39margs, \u001b[39m*\u001b[39m\u001b[39m*\u001b[39mkwargs)\n\u001b[0;32m    158\u001b[0m     \u001b[39mif\u001b[39;00m \u001b[39misinstance\u001b[39m(data_to_wrap, \u001b[39mtuple\u001b[39m):\n\u001b[0;32m    159\u001b[0m         \u001b[39m# only wrap the first output for cross decomposition\u001b[39;00m\n\u001b[0;32m    160\u001b[0m         return_tuple \u001b[39m=\u001b[39m (\n\u001b[0;32m    161\u001b[0m             _wrap_data_with_container(method, data_to_wrap[\u001b[39m0\u001b[39m], X, \u001b[39mself\u001b[39m),\n\u001b[0;32m    162\u001b[0m             \u001b[39m*\u001b[39mdata_to_wrap[\u001b[39m1\u001b[39m:],\n\u001b[0;32m    163\u001b[0m         )\n",
      "File \u001b[1;32m~\\AppData\\Roaming\\Python\\Python39\\site-packages\\sklearn\\base.py:916\u001b[0m, in \u001b[0;36mTransformerMixin.fit_transform\u001b[1;34m(self, X, y, **fit_params)\u001b[0m\n\u001b[0;32m    912\u001b[0m \u001b[39m# non-optimized default implementation; override when a better\u001b[39;00m\n\u001b[0;32m    913\u001b[0m \u001b[39m# method is possible for a given clustering algorithm\u001b[39;00m\n\u001b[0;32m    914\u001b[0m \u001b[39mif\u001b[39;00m y \u001b[39mis\u001b[39;00m \u001b[39mNone\u001b[39;00m:\n\u001b[0;32m    915\u001b[0m     \u001b[39m# fit method of arity 1 (unsupervised transformation)\u001b[39;00m\n\u001b[1;32m--> 916\u001b[0m     \u001b[39mreturn\u001b[39;00m \u001b[39mself\u001b[39;49m\u001b[39m.\u001b[39;49mfit(X, \u001b[39m*\u001b[39;49m\u001b[39m*\u001b[39;49mfit_params)\u001b[39m.\u001b[39;49mtransform(X)\n\u001b[0;32m    917\u001b[0m \u001b[39melse\u001b[39;00m:\n\u001b[0;32m    918\u001b[0m     \u001b[39m# fit method of arity 2 (supervised transformation)\u001b[39;00m\n\u001b[0;32m    919\u001b[0m     \u001b[39mreturn\u001b[39;00m \u001b[39mself\u001b[39m\u001b[39m.\u001b[39mfit(X, y, \u001b[39m*\u001b[39m\u001b[39m*\u001b[39mfit_params)\u001b[39m.\u001b[39mtransform(X)\n",
      "File \u001b[1;32m~\\AppData\\Roaming\\Python\\Python39\\site-packages\\sklearn\\utils\\_set_output.py:157\u001b[0m, in \u001b[0;36m_wrap_method_output.<locals>.wrapped\u001b[1;34m(self, X, *args, **kwargs)\u001b[0m\n\u001b[0;32m    155\u001b[0m \u001b[39m@wraps\u001b[39m(f)\n\u001b[0;32m    156\u001b[0m \u001b[39mdef\u001b[39;00m \u001b[39mwrapped\u001b[39m(\u001b[39mself\u001b[39m, X, \u001b[39m*\u001b[39margs, \u001b[39m*\u001b[39m\u001b[39m*\u001b[39mkwargs):\n\u001b[1;32m--> 157\u001b[0m     data_to_wrap \u001b[39m=\u001b[39m f(\u001b[39mself\u001b[39m, X, \u001b[39m*\u001b[39margs, \u001b[39m*\u001b[39m\u001b[39m*\u001b[39mkwargs)\n\u001b[0;32m    158\u001b[0m     \u001b[39mif\u001b[39;00m \u001b[39misinstance\u001b[39m(data_to_wrap, \u001b[39mtuple\u001b[39m):\n\u001b[0;32m    159\u001b[0m         \u001b[39m# only wrap the first output for cross decomposition\u001b[39;00m\n\u001b[0;32m    160\u001b[0m         return_tuple \u001b[39m=\u001b[39m (\n\u001b[0;32m    161\u001b[0m             _wrap_data_with_container(method, data_to_wrap[\u001b[39m0\u001b[39m], X, \u001b[39mself\u001b[39m),\n\u001b[0;32m    162\u001b[0m             \u001b[39m*\u001b[39mdata_to_wrap[\u001b[39m1\u001b[39m:],\n\u001b[0;32m    163\u001b[0m         )\n",
      "File \u001b[1;32m~\\AppData\\Roaming\\Python\\Python39\\site-packages\\sklearn\\preprocessing\\_polynomial.py:507\u001b[0m, in \u001b[0;36mPolynomialFeatures.transform\u001b[1;34m(self, X)\u001b[0m\n\u001b[0;32m    503\u001b[0m     XP \u001b[39m=\u001b[39m sparse\u001b[39m.\u001b[39mhstack(columns, dtype\u001b[39m=\u001b[39mX\u001b[39m.\u001b[39mdtype)\u001b[39m.\u001b[39mtocsc()\n\u001b[0;32m    504\u001b[0m \u001b[39melse\u001b[39;00m:\n\u001b[0;32m    505\u001b[0m     \u001b[39m# Do as if _min_degree = 0 and cut down array after the\u001b[39;00m\n\u001b[0;32m    506\u001b[0m     \u001b[39m# computation, i.e. use _n_out_full instead of n_output_features_.\u001b[39;00m\n\u001b[1;32m--> 507\u001b[0m     XP \u001b[39m=\u001b[39m np\u001b[39m.\u001b[39;49mempty(\n\u001b[0;32m    508\u001b[0m         shape\u001b[39m=\u001b[39;49m(n_samples, \u001b[39mself\u001b[39;49m\u001b[39m.\u001b[39;49m_n_out_full), dtype\u001b[39m=\u001b[39;49mX\u001b[39m.\u001b[39;49mdtype, order\u001b[39m=\u001b[39;49m\u001b[39mself\u001b[39;49m\u001b[39m.\u001b[39;49morder\n\u001b[0;32m    509\u001b[0m     )\n\u001b[0;32m    511\u001b[0m     \u001b[39m# What follows is a faster implementation of:\u001b[39;00m\n\u001b[0;32m    512\u001b[0m     \u001b[39m# for i, comb in enumerate(combinations):\u001b[39;00m\n\u001b[0;32m    513\u001b[0m     \u001b[39m#     XP[:, i] = X[:, comb].prod(1)\u001b[39;00m\n\u001b[1;32m   (...)\u001b[0m\n\u001b[0;32m    523\u001b[0m \n\u001b[0;32m    524\u001b[0m     \u001b[39m# degree 0 term\u001b[39;00m\n\u001b[0;32m    525\u001b[0m     \u001b[39mif\u001b[39;00m \u001b[39mself\u001b[39m\u001b[39m.\u001b[39minclude_bias:\n",
      "\u001b[1;31mMemoryError\u001b[0m: Unable to allocate 39.7 TiB for an array with shape (11500, 474181409) and data type float64"
     ]
    }
   ],
   "source": [
    "# Example feature expansion using PolynomialFeatures\n",
    "degree = 2  # Set the degree of polynomial features\n",
    "poly = PolynomialFeatures(degree=degree, include_bias=False)\n",
    "cwt_data = np.abs(cwt_data)\n",
    "expanded_features_cwt = poly.fit_transform(cwt_data)\n",
    "\n",
    "X_train_feat_fft, X_test_feat_fft, y_train_feat_fft, y_test_feat_fft = train_test_split(cwt_data, y, test_size=0.2, random_state=42)"
   ]
  },
  {
   "cell_type": "code",
   "execution_count": null,
   "metadata": {},
   "outputs": [],
   "source": []
  }
 ],
 "metadata": {
  "kernelspec": {
   "display_name": "ee269_env",
   "language": "python",
   "name": "python3"
  },
  "language_info": {
   "codemirror_mode": {
    "name": "ipython",
    "version": 3
   },
   "file_extension": ".py",
   "mimetype": "text/x-python",
   "name": "python",
   "nbconvert_exporter": "python",
   "pygments_lexer": "ipython3",
   "version": "3.9.18"
  }
 },
 "nbformat": 4,
 "nbformat_minor": 2
}
